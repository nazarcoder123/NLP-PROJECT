{
 "cells": [
  {
   "cell_type": "markdown",
   "id": "b8f2beed",
   "metadata": {
    "_cell_guid": "b1076dfc-b9ad-4769-8c92-a6c4dae69d19",
    "_uuid": "8f2839f25d086af736a60e9eeb907d3b93b6e0e5",
    "execution": {
     "iopub.execute_input": "2023-05-08T11:54:50.761423Z",
     "iopub.status.busy": "2023-05-08T11:54:50.761022Z",
     "iopub.status.idle": "2023-05-08T11:54:50.804321Z",
     "shell.execute_reply": "2023-05-08T11:54:50.803052Z",
     "shell.execute_reply.started": "2023-05-08T11:54:50.761391Z"
    },
    "papermill": {
     "duration": 0.01693,
     "end_time": "2023-05-12T10:35:51.694503",
     "exception": false,
     "start_time": "2023-05-12T10:35:51.677573",
     "status": "completed"
    },
    "tags": []
   },
   "source": [
    "# Importing necessary libraries and methods"
   ]
  },
  {
   "cell_type": "code",
   "execution_count": 1,
   "id": "aaa17f32",
   "metadata": {
    "execution": {
     "iopub.execute_input": "2023-05-12T10:35:51.725967Z",
     "iopub.status.busy": "2023-05-12T10:35:51.725367Z",
     "iopub.status.idle": "2023-05-12T10:36:06.574031Z",
     "shell.execute_reply": "2023-05-12T10:36:06.572621Z"
    },
    "papermill": {
     "duration": 14.867761,
     "end_time": "2023-05-12T10:36:06.577007",
     "exception": false,
     "start_time": "2023-05-12T10:35:51.709246",
     "status": "completed"
    },
    "tags": []
   },
   "outputs": [
    {
     "name": "stdout",
     "output_type": "stream",
     "text": [
      "Requirement already satisfied: transformers in /opt/conda/lib/python3.10/site-packages (4.28.1)\r\n",
      "Requirement already satisfied: packaging>=20.0 in /opt/conda/lib/python3.10/site-packages (from transformers) (21.3)\r\n",
      "Requirement already satisfied: requests in /opt/conda/lib/python3.10/site-packages (from transformers) (2.28.2)\r\n",
      "Requirement already satisfied: tqdm>=4.27 in /opt/conda/lib/python3.10/site-packages (from transformers) (4.64.1)\r\n",
      "Requirement already satisfied: filelock in /opt/conda/lib/python3.10/site-packages (from transformers) (3.11.0)\r\n",
      "Requirement already satisfied: regex!=2019.12.17 in /opt/conda/lib/python3.10/site-packages (from transformers) (2023.3.23)\r\n",
      "Requirement already satisfied: huggingface-hub<1.0,>=0.11.0 in /opt/conda/lib/python3.10/site-packages (from transformers) (0.13.4)\r\n",
      "Requirement already satisfied: numpy>=1.17 in /opt/conda/lib/python3.10/site-packages (from transformers) (1.23.5)\r\n",
      "Requirement already satisfied: tokenizers!=0.11.3,<0.14,>=0.11.1 in /opt/conda/lib/python3.10/site-packages (from transformers) (0.13.3)\r\n",
      "Requirement already satisfied: pyyaml>=5.1 in /opt/conda/lib/python3.10/site-packages (from transformers) (6.0)\r\n",
      "Requirement already satisfied: typing-extensions>=3.7.4.3 in /opt/conda/lib/python3.10/site-packages (from huggingface-hub<1.0,>=0.11.0->transformers) (4.5.0)\r\n",
      "Requirement already satisfied: pyparsing!=3.0.5,>=2.0.2 in /opt/conda/lib/python3.10/site-packages (from packaging>=20.0->transformers) (3.0.9)\r\n",
      "Requirement already satisfied: certifi>=2017.4.17 in /opt/conda/lib/python3.10/site-packages (from requests->transformers) (2022.12.7)\r\n",
      "Requirement already satisfied: charset-normalizer<4,>=2 in /opt/conda/lib/python3.10/site-packages (from requests->transformers) (2.1.1)\r\n",
      "Requirement already satisfied: idna<4,>=2.5 in /opt/conda/lib/python3.10/site-packages (from requests->transformers) (3.4)\r\n",
      "Requirement already satisfied: urllib3<1.27,>=1.21.1 in /opt/conda/lib/python3.10/site-packages (from requests->transformers) (1.26.15)\r\n",
      "\u001b[33mWARNING: Running pip as the 'root' user can result in broken permissions and conflicting behaviour with the system package manager. It is recommended to use a virtual environment instead: https://pip.pypa.io/warnings/venv\u001b[0m\u001b[33m\r\n",
      "\u001b[0m"
     ]
    }
   ],
   "source": [
    "!pip install transformers"
   ]
  },
  {
   "cell_type": "code",
   "execution_count": 2,
   "id": "33344336",
   "metadata": {
    "execution": {
     "iopub.execute_input": "2023-05-12T10:36:06.610067Z",
     "iopub.status.busy": "2023-05-12T10:36:06.609606Z",
     "iopub.status.idle": "2023-05-12T10:36:20.104313Z",
     "shell.execute_reply": "2023-05-12T10:36:20.103178Z"
    },
    "papermill": {
     "duration": 13.514703,
     "end_time": "2023-05-12T10:36:20.107200",
     "exception": false,
     "start_time": "2023-05-12T10:36:06.592497",
     "status": "completed"
    },
    "tags": []
   },
   "outputs": [
    {
     "name": "stderr",
     "output_type": "stream",
     "text": [
      "/opt/conda/lib/python3.10/site-packages/scipy/__init__.py:146: UserWarning: A NumPy version >=1.16.5 and <1.23.0 is required for this version of SciPy (detected version 1.23.5\n",
      "  warnings.warn(f\"A NumPy version >={np_minversion} and <{np_maxversion}\"\n"
     ]
    }
   ],
   "source": [
    "import pandas as pd\n",
    "import numpy as np\n",
    "import tensorflow as tf\n",
    "import nltk\n",
    "import re\n",
    "import string\n",
    "import gensim\n",
    "\n",
    "\n",
    "## Methods\n",
    "from nltk.corpus import stopwords\n",
    "from nltk.stem import PorterStemmer\n",
    "from nltk.stem import WordNetLemmatizer\n",
    "from nltk.tokenize import word_tokenize\n",
    "from transformers import TFAutoModel\n",
    "from sklearn.feature_extraction.text import TfidfVectorizer\n",
    "from tensorflow.keras.preprocessing.sequence import pad_sequences\n",
    "from transformers import AutoTokenizer\n",
    "from collections import Counter\n",
    "\n",
    "\n",
    "\n",
    "import matplotlib.pyplot as plt\n",
    "\n"
   ]
  },
  {
   "cell_type": "code",
   "execution_count": 3,
   "id": "37119f35",
   "metadata": {
    "execution": {
     "iopub.execute_input": "2023-05-12T10:36:20.141430Z",
     "iopub.status.busy": "2023-05-12T10:36:20.140675Z",
     "iopub.status.idle": "2023-05-12T10:36:20.545976Z",
     "shell.execute_reply": "2023-05-12T10:36:20.544548Z"
    },
    "papermill": {
     "duration": 0.424864,
     "end_time": "2023-05-12T10:36:20.548467",
     "exception": false,
     "start_time": "2023-05-12T10:36:20.123603",
     "status": "completed"
    },
    "tags": []
   },
   "outputs": [
    {
     "name": "stdout",
     "output_type": "stream",
     "text": [
      "[nltk_data] Downloading package stopwords to /usr/share/nltk_data...\n",
      "[nltk_data]   Package stopwords is already up-to-date!\n",
      "[nltk_data] Downloading package omw-1.4 to /usr/share/nltk_data...\n",
      "[nltk_data] Downloading package wordnet to /usr/share/nltk_data...\n",
      "[nltk_data]   Package wordnet is already up-to-date!\n",
      "[nltk_data] Downloading package punkt to /usr/share/nltk_data...\n",
      "[nltk_data]   Package punkt is already up-to-date!\n"
     ]
    },
    {
     "data": {
      "text/plain": [
       "True"
      ]
     },
     "execution_count": 3,
     "metadata": {},
     "output_type": "execute_result"
    }
   ],
   "source": [
    "\n",
    "nltk.download('stopwords')\n",
    "nltk.download('omw-1.4')\n",
    "nltk.download('wordnet')\n",
    "nltk.download('punkt')\n",
    "\n",
    "\n"
   ]
  },
  {
   "cell_type": "code",
   "execution_count": 4,
   "id": "b950202c",
   "metadata": {
    "execution": {
     "iopub.execute_input": "2023-05-12T10:36:20.581854Z",
     "iopub.status.busy": "2023-05-12T10:36:20.581221Z",
     "iopub.status.idle": "2023-05-12T10:36:22.053188Z",
     "shell.execute_reply": "2023-05-12T10:36:22.051680Z"
    },
    "papermill": {
     "duration": 1.491659,
     "end_time": "2023-05-12T10:36:22.055800",
     "exception": false,
     "start_time": "2023-05-12T10:36:20.564141",
     "status": "completed"
    },
    "tags": []
   },
   "outputs": [
    {
     "name": "stdout",
     "output_type": "stream",
     "text": [
      "Archive:  /usr/share/nltk_data/corpora/wordnet.zip\r\n",
      "   creating: /usr/share/nltk_data/corpora/wordnet/\r\n",
      "  inflating: /usr/share/nltk_data/corpora/wordnet/lexnames  \r\n",
      "  inflating: /usr/share/nltk_data/corpora/wordnet/data.verb  \r\n",
      "  inflating: /usr/share/nltk_data/corpora/wordnet/index.adv  \r\n",
      "  inflating: /usr/share/nltk_data/corpora/wordnet/adv.exc  \r\n",
      "  inflating: /usr/share/nltk_data/corpora/wordnet/index.verb  \r\n",
      "  inflating: /usr/share/nltk_data/corpora/wordnet/cntlist.rev  \r\n",
      "  inflating: /usr/share/nltk_data/corpora/wordnet/data.adj  \r\n",
      "  inflating: /usr/share/nltk_data/corpora/wordnet/index.adj  \r\n",
      "  inflating: /usr/share/nltk_data/corpora/wordnet/LICENSE  \r\n",
      "  inflating: /usr/share/nltk_data/corpora/wordnet/citation.bib  \r\n",
      "  inflating: /usr/share/nltk_data/corpora/wordnet/noun.exc  \r\n",
      "  inflating: /usr/share/nltk_data/corpora/wordnet/verb.exc  \r\n",
      "  inflating: /usr/share/nltk_data/corpora/wordnet/README  \r\n",
      "  inflating: /usr/share/nltk_data/corpora/wordnet/index.sense  \r\n",
      "  inflating: /usr/share/nltk_data/corpora/wordnet/data.noun  \r\n",
      "  inflating: /usr/share/nltk_data/corpora/wordnet/data.adv  \r\n",
      "  inflating: /usr/share/nltk_data/corpora/wordnet/index.noun  \r\n",
      "  inflating: /usr/share/nltk_data/corpora/wordnet/adj.exc  \r\n"
     ]
    }
   ],
   "source": [
    "!unzip /usr/share/nltk_data/corpora/wordnet.zip -d /usr/share/nltk_data/corpora/"
   ]
  },
  {
   "cell_type": "markdown",
   "id": "b11c7745",
   "metadata": {
    "papermill": {
     "duration": 0.016129,
     "end_time": "2023-05-12T10:36:22.088195",
     "exception": false,
     "start_time": "2023-05-12T10:36:22.072066",
     "status": "completed"
    },
    "tags": []
   },
   "source": [
    "# Reading & Overviewing the dataset "
   ]
  },
  {
   "cell_type": "code",
   "execution_count": 5,
   "id": "bccd6dcf",
   "metadata": {
    "execution": {
     "iopub.execute_input": "2023-05-12T10:36:22.123936Z",
     "iopub.status.busy": "2023-05-12T10:36:22.122554Z",
     "iopub.status.idle": "2023-05-12T10:36:29.444451Z",
     "shell.execute_reply": "2023-05-12T10:36:29.443301Z"
    },
    "papermill": {
     "duration": 7.342895,
     "end_time": "2023-05-12T10:36:29.447375",
     "exception": false,
     "start_time": "2023-05-12T10:36:22.104480",
     "status": "completed"
    },
    "tags": []
   },
   "outputs": [],
   "source": [
    "DATASET_ENCODING = 'ISO-8859-1'\n",
    "DATASET_COLUMNS = ['target','ids','date','flag','user','text']\n",
    "dataset = pd.read_csv('/kaggle/input/sentiment140/training.1600000.processed.noemoticon.csv',\n",
    "                   encoding=DATASET_ENCODING,names=DATASET_COLUMNS)\n"
   ]
  },
  {
   "cell_type": "code",
   "execution_count": 6,
   "id": "05925591",
   "metadata": {
    "execution": {
     "iopub.execute_input": "2023-05-12T10:36:29.481909Z",
     "iopub.status.busy": "2023-05-12T10:36:29.481481Z",
     "iopub.status.idle": "2023-05-12T10:36:29.524801Z",
     "shell.execute_reply": "2023-05-12T10:36:29.523720Z"
    },
    "papermill": {
     "duration": 0.063776,
     "end_time": "2023-05-12T10:36:29.527348",
     "exception": false,
     "start_time": "2023-05-12T10:36:29.463572",
     "status": "completed"
    },
    "tags": []
   },
   "outputs": [
    {
     "data": {
      "text/html": [
       "<div>\n",
       "<style scoped>\n",
       "    .dataframe tbody tr th:only-of-type {\n",
       "        vertical-align: middle;\n",
       "    }\n",
       "\n",
       "    .dataframe tbody tr th {\n",
       "        vertical-align: top;\n",
       "    }\n",
       "\n",
       "    .dataframe thead th {\n",
       "        text-align: right;\n",
       "    }\n",
       "</style>\n",
       "<table border=\"1\" class=\"dataframe\">\n",
       "  <thead>\n",
       "    <tr style=\"text-align: right;\">\n",
       "      <th></th>\n",
       "      <th>target</th>\n",
       "      <th>ids</th>\n",
       "      <th>date</th>\n",
       "      <th>flag</th>\n",
       "      <th>user</th>\n",
       "      <th>text</th>\n",
       "    </tr>\n",
       "  </thead>\n",
       "  <tbody>\n",
       "    <tr>\n",
       "      <th>0</th>\n",
       "      <td>0</td>\n",
       "      <td>1467810369</td>\n",
       "      <td>Mon Apr 06 22:19:45 PDT 2009</td>\n",
       "      <td>NO_QUERY</td>\n",
       "      <td>_TheSpecialOne_</td>\n",
       "      <td>@switchfoot http://twitpic.com/2y1zl - Awww, t...</td>\n",
       "    </tr>\n",
       "    <tr>\n",
       "      <th>1</th>\n",
       "      <td>0</td>\n",
       "      <td>1467810672</td>\n",
       "      <td>Mon Apr 06 22:19:49 PDT 2009</td>\n",
       "      <td>NO_QUERY</td>\n",
       "      <td>scotthamilton</td>\n",
       "      <td>is upset that he can't update his Facebook by ...</td>\n",
       "    </tr>\n",
       "    <tr>\n",
       "      <th>2</th>\n",
       "      <td>0</td>\n",
       "      <td>1467810917</td>\n",
       "      <td>Mon Apr 06 22:19:53 PDT 2009</td>\n",
       "      <td>NO_QUERY</td>\n",
       "      <td>mattycus</td>\n",
       "      <td>@Kenichan I dived many times for the ball. Man...</td>\n",
       "    </tr>\n",
       "    <tr>\n",
       "      <th>3</th>\n",
       "      <td>0</td>\n",
       "      <td>1467811184</td>\n",
       "      <td>Mon Apr 06 22:19:57 PDT 2009</td>\n",
       "      <td>NO_QUERY</td>\n",
       "      <td>ElleCTF</td>\n",
       "      <td>my whole body feels itchy and like its on fire</td>\n",
       "    </tr>\n",
       "    <tr>\n",
       "      <th>4</th>\n",
       "      <td>0</td>\n",
       "      <td>1467811193</td>\n",
       "      <td>Mon Apr 06 22:19:57 PDT 2009</td>\n",
       "      <td>NO_QUERY</td>\n",
       "      <td>Karoli</td>\n",
       "      <td>@nationwideclass no, it's not behaving at all....</td>\n",
       "    </tr>\n",
       "    <tr>\n",
       "      <th>...</th>\n",
       "      <td>...</td>\n",
       "      <td>...</td>\n",
       "      <td>...</td>\n",
       "      <td>...</td>\n",
       "      <td>...</td>\n",
       "      <td>...</td>\n",
       "    </tr>\n",
       "    <tr>\n",
       "      <th>1599995</th>\n",
       "      <td>4</td>\n",
       "      <td>2193601966</td>\n",
       "      <td>Tue Jun 16 08:40:49 PDT 2009</td>\n",
       "      <td>NO_QUERY</td>\n",
       "      <td>AmandaMarie1028</td>\n",
       "      <td>Just woke up. Having no school is the best fee...</td>\n",
       "    </tr>\n",
       "    <tr>\n",
       "      <th>1599996</th>\n",
       "      <td>4</td>\n",
       "      <td>2193601969</td>\n",
       "      <td>Tue Jun 16 08:40:49 PDT 2009</td>\n",
       "      <td>NO_QUERY</td>\n",
       "      <td>TheWDBoards</td>\n",
       "      <td>TheWDB.com - Very cool to hear old Walt interv...</td>\n",
       "    </tr>\n",
       "    <tr>\n",
       "      <th>1599997</th>\n",
       "      <td>4</td>\n",
       "      <td>2193601991</td>\n",
       "      <td>Tue Jun 16 08:40:49 PDT 2009</td>\n",
       "      <td>NO_QUERY</td>\n",
       "      <td>bpbabe</td>\n",
       "      <td>Are you ready for your MoJo Makeover? Ask me f...</td>\n",
       "    </tr>\n",
       "    <tr>\n",
       "      <th>1599998</th>\n",
       "      <td>4</td>\n",
       "      <td>2193602064</td>\n",
       "      <td>Tue Jun 16 08:40:49 PDT 2009</td>\n",
       "      <td>NO_QUERY</td>\n",
       "      <td>tinydiamondz</td>\n",
       "      <td>Happy 38th Birthday to my boo of alll time!!! ...</td>\n",
       "    </tr>\n",
       "    <tr>\n",
       "      <th>1599999</th>\n",
       "      <td>4</td>\n",
       "      <td>2193602129</td>\n",
       "      <td>Tue Jun 16 08:40:50 PDT 2009</td>\n",
       "      <td>NO_QUERY</td>\n",
       "      <td>RyanTrevMorris</td>\n",
       "      <td>happy #charitytuesday @theNSPCC @SparksCharity...</td>\n",
       "    </tr>\n",
       "  </tbody>\n",
       "</table>\n",
       "<p>1600000 rows × 6 columns</p>\n",
       "</div>"
      ],
      "text/plain": [
       "         target         ids                          date      flag  \\\n",
       "0             0  1467810369  Mon Apr 06 22:19:45 PDT 2009  NO_QUERY   \n",
       "1             0  1467810672  Mon Apr 06 22:19:49 PDT 2009  NO_QUERY   \n",
       "2             0  1467810917  Mon Apr 06 22:19:53 PDT 2009  NO_QUERY   \n",
       "3             0  1467811184  Mon Apr 06 22:19:57 PDT 2009  NO_QUERY   \n",
       "4             0  1467811193  Mon Apr 06 22:19:57 PDT 2009  NO_QUERY   \n",
       "...         ...         ...                           ...       ...   \n",
       "1599995       4  2193601966  Tue Jun 16 08:40:49 PDT 2009  NO_QUERY   \n",
       "1599996       4  2193601969  Tue Jun 16 08:40:49 PDT 2009  NO_QUERY   \n",
       "1599997       4  2193601991  Tue Jun 16 08:40:49 PDT 2009  NO_QUERY   \n",
       "1599998       4  2193602064  Tue Jun 16 08:40:49 PDT 2009  NO_QUERY   \n",
       "1599999       4  2193602129  Tue Jun 16 08:40:50 PDT 2009  NO_QUERY   \n",
       "\n",
       "                    user                                               text  \n",
       "0        _TheSpecialOne_  @switchfoot http://twitpic.com/2y1zl - Awww, t...  \n",
       "1          scotthamilton  is upset that he can't update his Facebook by ...  \n",
       "2               mattycus  @Kenichan I dived many times for the ball. Man...  \n",
       "3                ElleCTF    my whole body feels itchy and like its on fire   \n",
       "4                 Karoli  @nationwideclass no, it's not behaving at all....  \n",
       "...                  ...                                                ...  \n",
       "1599995  AmandaMarie1028  Just woke up. Having no school is the best fee...  \n",
       "1599996      TheWDBoards  TheWDB.com - Very cool to hear old Walt interv...  \n",
       "1599997           bpbabe  Are you ready for your MoJo Makeover? Ask me f...  \n",
       "1599998     tinydiamondz  Happy 38th Birthday to my boo of alll time!!! ...  \n",
       "1599999   RyanTrevMorris  happy #charitytuesday @theNSPCC @SparksCharity...  \n",
       "\n",
       "[1600000 rows x 6 columns]"
      ]
     },
     "execution_count": 6,
     "metadata": {},
     "output_type": "execute_result"
    }
   ],
   "source": [
    "dataset"
   ]
  },
  {
   "cell_type": "markdown",
   "id": "f8eb5414",
   "metadata": {
    "papermill": {
     "duration": 0.016228,
     "end_time": "2023-05-12T10:36:29.560641",
     "exception": false,
     "start_time": "2023-05-12T10:36:29.544413",
     "status": "completed"
    },
    "tags": []
   },
   "source": [
    "# a) Preprocessing "
   ]
  },
  {
   "cell_type": "markdown",
   "id": "54843659",
   "metadata": {
    "papermill": {
     "duration": 0.01663,
     "end_time": "2023-05-12T10:36:29.593884",
     "exception": false,
     "start_time": "2023-05-12T10:36:29.577254",
     "status": "completed"
    },
    "tags": []
   },
   "source": [
    "## Checking for missing values "
   ]
  },
  {
   "cell_type": "code",
   "execution_count": 7,
   "id": "9f98e15a",
   "metadata": {
    "execution": {
     "iopub.execute_input": "2023-05-12T10:36:29.629020Z",
     "iopub.status.busy": "2023-05-12T10:36:29.628607Z",
     "iopub.status.idle": "2023-05-12T10:36:31.709564Z",
     "shell.execute_reply": "2023-05-12T10:36:31.708597Z"
    },
    "papermill": {
     "duration": 2.101373,
     "end_time": "2023-05-12T10:36:31.712094",
     "exception": false,
     "start_time": "2023-05-12T10:36:29.610721",
     "status": "completed"
    },
    "tags": []
   },
   "outputs": [
    {
     "name": "stdout",
     "output_type": "stream",
     "text": [
      "target    0\n",
      "ids       0\n",
      "date      0\n",
      "flag      0\n",
      "user      0\n",
      "text      0\n",
      "dtype: int64\n",
      "LUCKLY THERE ISN'T ANY MISSING VALUES\n"
     ]
    }
   ],
   "source": [
    "print(dataset.isna().sum())\n",
    "print(\"luckly there isn't any missing values\".upper())"
   ]
  },
  {
   "cell_type": "markdown",
   "id": "c6352ba5",
   "metadata": {
    "papermill": {
     "duration": 0.016564,
     "end_time": "2023-05-12T10:36:31.745528",
     "exception": false,
     "start_time": "2023-05-12T10:36:31.728964",
     "status": "completed"
    },
    "tags": []
   },
   "source": [
    "## Removing the unnecessary columns "
   ]
  },
  {
   "cell_type": "code",
   "execution_count": 8,
   "id": "e7627c6f",
   "metadata": {
    "execution": {
     "iopub.execute_input": "2023-05-12T10:36:31.782295Z",
     "iopub.status.busy": "2023-05-12T10:36:31.781240Z",
     "iopub.status.idle": "2023-05-12T10:36:31.834434Z",
     "shell.execute_reply": "2023-05-12T10:36:31.833320Z"
    },
    "papermill": {
     "duration": 0.074381,
     "end_time": "2023-05-12T10:36:31.836849",
     "exception": false,
     "start_time": "2023-05-12T10:36:31.762468",
     "status": "completed"
    },
    "tags": []
   },
   "outputs": [
    {
     "data": {
      "text/html": [
       "<div>\n",
       "<style scoped>\n",
       "    .dataframe tbody tr th:only-of-type {\n",
       "        vertical-align: middle;\n",
       "    }\n",
       "\n",
       "    .dataframe tbody tr th {\n",
       "        vertical-align: top;\n",
       "    }\n",
       "\n",
       "    .dataframe thead th {\n",
       "        text-align: right;\n",
       "    }\n",
       "</style>\n",
       "<table border=\"1\" class=\"dataframe\">\n",
       "  <thead>\n",
       "    <tr style=\"text-align: right;\">\n",
       "      <th></th>\n",
       "      <th>target</th>\n",
       "      <th>text</th>\n",
       "    </tr>\n",
       "  </thead>\n",
       "  <tbody>\n",
       "    <tr>\n",
       "      <th>0</th>\n",
       "      <td>0</td>\n",
       "      <td>@switchfoot http://twitpic.com/2y1zl - Awww, t...</td>\n",
       "    </tr>\n",
       "    <tr>\n",
       "      <th>1</th>\n",
       "      <td>0</td>\n",
       "      <td>is upset that he can't update his Facebook by ...</td>\n",
       "    </tr>\n",
       "    <tr>\n",
       "      <th>2</th>\n",
       "      <td>0</td>\n",
       "      <td>@Kenichan I dived many times for the ball. Man...</td>\n",
       "    </tr>\n",
       "    <tr>\n",
       "      <th>3</th>\n",
       "      <td>0</td>\n",
       "      <td>my whole body feels itchy and like its on fire</td>\n",
       "    </tr>\n",
       "    <tr>\n",
       "      <th>4</th>\n",
       "      <td>0</td>\n",
       "      <td>@nationwideclass no, it's not behaving at all....</td>\n",
       "    </tr>\n",
       "    <tr>\n",
       "      <th>...</th>\n",
       "      <td>...</td>\n",
       "      <td>...</td>\n",
       "    </tr>\n",
       "    <tr>\n",
       "      <th>1599995</th>\n",
       "      <td>4</td>\n",
       "      <td>Just woke up. Having no school is the best fee...</td>\n",
       "    </tr>\n",
       "    <tr>\n",
       "      <th>1599996</th>\n",
       "      <td>4</td>\n",
       "      <td>TheWDB.com - Very cool to hear old Walt interv...</td>\n",
       "    </tr>\n",
       "    <tr>\n",
       "      <th>1599997</th>\n",
       "      <td>4</td>\n",
       "      <td>Are you ready for your MoJo Makeover? Ask me f...</td>\n",
       "    </tr>\n",
       "    <tr>\n",
       "      <th>1599998</th>\n",
       "      <td>4</td>\n",
       "      <td>Happy 38th Birthday to my boo of alll time!!! ...</td>\n",
       "    </tr>\n",
       "    <tr>\n",
       "      <th>1599999</th>\n",
       "      <td>4</td>\n",
       "      <td>happy #charitytuesday @theNSPCC @SparksCharity...</td>\n",
       "    </tr>\n",
       "  </tbody>\n",
       "</table>\n",
       "<p>1600000 rows × 2 columns</p>\n",
       "</div>"
      ],
      "text/plain": [
       "         target                                               text\n",
       "0             0  @switchfoot http://twitpic.com/2y1zl - Awww, t...\n",
       "1             0  is upset that he can't update his Facebook by ...\n",
       "2             0  @Kenichan I dived many times for the ball. Man...\n",
       "3             0    my whole body feels itchy and like its on fire \n",
       "4             0  @nationwideclass no, it's not behaving at all....\n",
       "...         ...                                                ...\n",
       "1599995       4  Just woke up. Having no school is the best fee...\n",
       "1599996       4  TheWDB.com - Very cool to hear old Walt interv...\n",
       "1599997       4  Are you ready for your MoJo Makeover? Ask me f...\n",
       "1599998       4  Happy 38th Birthday to my boo of alll time!!! ...\n",
       "1599999       4  happy #charitytuesday @theNSPCC @SparksCharity...\n",
       "\n",
       "[1600000 rows x 2 columns]"
      ]
     },
     "execution_count": 8,
     "metadata": {},
     "output_type": "execute_result"
    }
   ],
   "source": [
    "dataset = dataset[['target','text']]\n",
    "dataset"
   ]
  },
  {
   "cell_type": "markdown",
   "id": "40231a2c",
   "metadata": {
    "papermill": {
     "duration": 0.016812,
     "end_time": "2023-05-12T10:36:31.870632",
     "exception": false,
     "start_time": "2023-05-12T10:36:31.853820",
     "status": "completed"
    },
    "tags": []
   },
   "source": [
    "## Replacing the values for ease understanding"
   ]
  },
  {
   "cell_type": "code",
   "execution_count": 9,
   "id": "4ff00b80",
   "metadata": {
    "execution": {
     "iopub.execute_input": "2023-05-12T10:36:31.907583Z",
     "iopub.status.busy": "2023-05-12T10:36:31.906146Z",
     "iopub.status.idle": "2023-05-12T10:36:31.918549Z",
     "shell.execute_reply": "2023-05-12T10:36:31.917287Z"
    },
    "papermill": {
     "duration": 0.033523,
     "end_time": "2023-05-12T10:36:31.921137",
     "exception": false,
     "start_time": "2023-05-12T10:36:31.887614",
     "status": "completed"
    },
    "tags": []
   },
   "outputs": [],
   "source": [
    "dataset.loc[dataset['target'] == 4, 'target'] = 1\n"
   ]
  },
  {
   "cell_type": "markdown",
   "id": "4edc239c",
   "metadata": {
    "papermill": {
     "duration": 0.016741,
     "end_time": "2023-05-12T10:36:31.954973",
     "exception": false,
     "start_time": "2023-05-12T10:36:31.938232",
     "status": "completed"
    },
    "tags": []
   },
   "source": [
    "## For testing purposes and saving time, list just take the first 1000 and last 1000 rows "
   ]
  },
  {
   "cell_type": "code",
   "execution_count": 10,
   "id": "7e6569e4",
   "metadata": {
    "execution": {
     "iopub.execute_input": "2023-05-12T10:36:31.991198Z",
     "iopub.status.busy": "2023-05-12T10:36:31.990815Z",
     "iopub.status.idle": "2023-05-12T10:36:31.997691Z",
     "shell.execute_reply": "2023-05-12T10:36:31.996836Z"
    },
    "papermill": {
     "duration": 0.028089,
     "end_time": "2023-05-12T10:36:32.000103",
     "exception": false,
     "start_time": "2023-05-12T10:36:31.972014",
     "status": "completed"
    },
    "tags": []
   },
   "outputs": [],
   "source": [
    "# take the first 1000 rows\n",
    "df_top = dataset.head(1000)\n",
    "\n",
    "# take the last 1000 rows\n",
    "df_bottom = dataset.tail(1000)\n",
    "\n",
    "dataset = pd.concat([df_top, df_bottom])"
   ]
  },
  {
   "cell_type": "code",
   "execution_count": 11,
   "id": "c5fdae93",
   "metadata": {
    "execution": {
     "iopub.execute_input": "2023-05-12T10:36:32.036800Z",
     "iopub.status.busy": "2023-05-12T10:36:32.035975Z",
     "iopub.status.idle": "2023-05-12T10:36:32.049910Z",
     "shell.execute_reply": "2023-05-12T10:36:32.048823Z"
    },
    "papermill": {
     "duration": 0.034949,
     "end_time": "2023-05-12T10:36:32.052293",
     "exception": false,
     "start_time": "2023-05-12T10:36:32.017344",
     "status": "completed"
    },
    "tags": []
   },
   "outputs": [
    {
     "name": "stdout",
     "output_type": "stream",
     "text": [
      "2000\n"
     ]
    },
    {
     "data": {
      "text/html": [
       "<div>\n",
       "<style scoped>\n",
       "    .dataframe tbody tr th:only-of-type {\n",
       "        vertical-align: middle;\n",
       "    }\n",
       "\n",
       "    .dataframe tbody tr th {\n",
       "        vertical-align: top;\n",
       "    }\n",
       "\n",
       "    .dataframe thead th {\n",
       "        text-align: right;\n",
       "    }\n",
       "</style>\n",
       "<table border=\"1\" class=\"dataframe\">\n",
       "  <thead>\n",
       "    <tr style=\"text-align: right;\">\n",
       "      <th></th>\n",
       "      <th>target</th>\n",
       "      <th>text</th>\n",
       "    </tr>\n",
       "  </thead>\n",
       "  <tbody>\n",
       "    <tr>\n",
       "      <th>0</th>\n",
       "      <td>0</td>\n",
       "      <td>@switchfoot http://twitpic.com/2y1zl - Awww, t...</td>\n",
       "    </tr>\n",
       "    <tr>\n",
       "      <th>1</th>\n",
       "      <td>0</td>\n",
       "      <td>is upset that he can't update his Facebook by ...</td>\n",
       "    </tr>\n",
       "    <tr>\n",
       "      <th>2</th>\n",
       "      <td>0</td>\n",
       "      <td>@Kenichan I dived many times for the ball. Man...</td>\n",
       "    </tr>\n",
       "    <tr>\n",
       "      <th>3</th>\n",
       "      <td>0</td>\n",
       "      <td>my whole body feels itchy and like its on fire</td>\n",
       "    </tr>\n",
       "    <tr>\n",
       "      <th>4</th>\n",
       "      <td>0</td>\n",
       "      <td>@nationwideclass no, it's not behaving at all....</td>\n",
       "    </tr>\n",
       "    <tr>\n",
       "      <th>...</th>\n",
       "      <td>...</td>\n",
       "      <td>...</td>\n",
       "    </tr>\n",
       "    <tr>\n",
       "      <th>1599995</th>\n",
       "      <td>1</td>\n",
       "      <td>Just woke up. Having no school is the best fee...</td>\n",
       "    </tr>\n",
       "    <tr>\n",
       "      <th>1599996</th>\n",
       "      <td>1</td>\n",
       "      <td>TheWDB.com - Very cool to hear old Walt interv...</td>\n",
       "    </tr>\n",
       "    <tr>\n",
       "      <th>1599997</th>\n",
       "      <td>1</td>\n",
       "      <td>Are you ready for your MoJo Makeover? Ask me f...</td>\n",
       "    </tr>\n",
       "    <tr>\n",
       "      <th>1599998</th>\n",
       "      <td>1</td>\n",
       "      <td>Happy 38th Birthday to my boo of alll time!!! ...</td>\n",
       "    </tr>\n",
       "    <tr>\n",
       "      <th>1599999</th>\n",
       "      <td>1</td>\n",
       "      <td>happy #charitytuesday @theNSPCC @SparksCharity...</td>\n",
       "    </tr>\n",
       "  </tbody>\n",
       "</table>\n",
       "<p>2000 rows × 2 columns</p>\n",
       "</div>"
      ],
      "text/plain": [
       "         target                                               text\n",
       "0             0  @switchfoot http://twitpic.com/2y1zl - Awww, t...\n",
       "1             0  is upset that he can't update his Facebook by ...\n",
       "2             0  @Kenichan I dived many times for the ball. Man...\n",
       "3             0    my whole body feels itchy and like its on fire \n",
       "4             0  @nationwideclass no, it's not behaving at all....\n",
       "...         ...                                                ...\n",
       "1599995       1  Just woke up. Having no school is the best fee...\n",
       "1599996       1  TheWDB.com - Very cool to hear old Walt interv...\n",
       "1599997       1  Are you ready for your MoJo Makeover? Ask me f...\n",
       "1599998       1  Happy 38th Birthday to my boo of alll time!!! ...\n",
       "1599999       1  happy #charitytuesday @theNSPCC @SparksCharity...\n",
       "\n",
       "[2000 rows x 2 columns]"
      ]
     },
     "execution_count": 11,
     "metadata": {},
     "output_type": "execute_result"
    }
   ],
   "source": [
    "print(len(dataset))\n",
    "dataset"
   ]
  },
  {
   "cell_type": "markdown",
   "id": "8640f2f7",
   "metadata": {
    "papermill": {
     "duration": 0.017099,
     "end_time": "2023-05-12T10:36:32.086726",
     "exception": false,
     "start_time": "2023-05-12T10:36:32.069627",
     "status": "completed"
    },
    "tags": []
   },
   "source": [
    "## Plotting the distribution of the target"
   ]
  },
  {
   "cell_type": "code",
   "execution_count": 12,
   "id": "49135670",
   "metadata": {
    "execution": {
     "iopub.execute_input": "2023-05-12T10:36:32.124618Z",
     "iopub.status.busy": "2023-05-12T10:36:32.123477Z",
     "iopub.status.idle": "2023-05-12T10:36:32.487136Z",
     "shell.execute_reply": "2023-05-12T10:36:32.486251Z"
    },
    "papermill": {
     "duration": 0.384924,
     "end_time": "2023-05-12T10:36:32.489344",
     "exception": false,
     "start_time": "2023-05-12T10:36:32.104420",
     "status": "completed"
    },
    "tags": []
   },
   "outputs": [
    {
     "data": {
      "text/plain": [
       "[Text(0, 0, 'Negative'), Text(1, 0, 'Positive')]"
      ]
     },
     "execution_count": 12,
     "metadata": {},
     "output_type": "execute_result"
    },
    {
     "data": {
      "image/png": "[encoded data removed]",
      "text/plain": [
       "<Figure size 640x480 with 1 Axes>"
      ]
     },
     "metadata": {},
     "output_type": "display_data"
    }
   ],
   "source": [
    "ax = dataset.groupby('target').count().plot(kind='bar',title='Distribution',legend=False)\n",
    "ax.set_xticklabels([\"Negative\",'Positive'],rotation=0)"
   ]
  },
  {
   "cell_type": "markdown",
   "id": "f1c27962",
   "metadata": {
    "papermill": {
     "duration": 0.018168,
     "end_time": "2023-05-12T10:36:32.525865",
     "exception": false,
     "start_time": "2023-05-12T10:36:32.507697",
     "status": "completed"
    },
    "tags": []
   },
   "source": [
    "## Storing the text and target column in lists"
   ]
  },
  {
   "cell_type": "code",
   "execution_count": 13,
   "id": "a2c865f1",
   "metadata": {
    "execution": {
     "iopub.execute_input": "2023-05-12T10:36:32.564163Z",
     "iopub.status.busy": "2023-05-12T10:36:32.563449Z",
     "iopub.status.idle": "2023-05-12T10:36:32.568707Z",
     "shell.execute_reply": "2023-05-12T10:36:32.567910Z"
    },
    "papermill": {
     "duration": 0.027322,
     "end_time": "2023-05-12T10:36:32.571137",
     "exception": false,
     "start_time": "2023-05-12T10:36:32.543815",
     "status": "completed"
    },
    "tags": []
   },
   "outputs": [],
   "source": [
    "text, target = list(dataset.text), list(dataset.target)\n"
   ]
  },
  {
   "cell_type": "markdown",
   "id": "6fc33a61",
   "metadata": {
    "papermill": {
     "duration": 0.01857,
     "end_time": "2023-05-12T10:36:32.607710",
     "exception": false,
     "start_time": "2023-05-12T10:36:32.589140",
     "status": "completed"
    },
    "tags": []
   },
   "source": [
    "## Defining a set containing all stopwords in English "
   ]
  },
  {
   "cell_type": "code",
   "execution_count": 14,
   "id": "9606b758",
   "metadata": {
    "execution": {
     "iopub.execute_input": "2023-05-12T10:36:32.647778Z",
     "iopub.status.busy": "2023-05-12T10:36:32.647004Z",
     "iopub.status.idle": "2023-05-12T10:36:32.654537Z",
     "shell.execute_reply": "2023-05-12T10:36:32.653757Z"
    },
    "papermill": {
     "duration": 0.030592,
     "end_time": "2023-05-12T10:36:32.656998",
     "exception": false,
     "start_time": "2023-05-12T10:36:32.626406",
     "status": "completed"
    },
    "tags": []
   },
   "outputs": [],
   "source": [
    "stopwordlist = set(stopwords.words('english'))\n"
   ]
  },
  {
   "cell_type": "code",
   "execution_count": 15,
   "id": "e5c8360a",
   "metadata": {
    "execution": {
     "iopub.execute_input": "2023-05-12T10:36:32.695086Z",
     "iopub.status.busy": "2023-05-12T10:36:32.694288Z",
     "iopub.status.idle": "2023-05-12T10:36:32.701141Z",
     "shell.execute_reply": "2023-05-12T10:36:32.699809Z"
    },
    "papermill": {
     "duration": 0.029129,
     "end_time": "2023-05-12T10:36:32.704036",
     "exception": false,
     "start_time": "2023-05-12T10:36:32.674907",
     "status": "completed"
    },
    "tags": []
   },
   "outputs": [
    {
     "name": "stdout",
     "output_type": "stream",
     "text": [
      "{'off', 'am', 'in', 'ourselves', 'no', 'me', 'these', 'did', 've', 'doesn', \"won't\", 'has', 'for', 'which', \"wouldn't\", 'd', 'herself', 'can', 'their', 'couldn', 'against', 'during', 'down', \"don't\", 'be', 'don', 'your', 'were', 'the', 'further', 're', 'by', 'or', 'more', \"isn't\", 'theirs', 'himself', 'most', 'ours', 'that', 'it', 'having', 'from', \"shan't\", 'until', 'some', \"mustn't\", 'but', 'you', 'because', \"needn't\", 'was', \"couldn't\", 'is', \"hadn't\", 'both', \"wasn't\", 'between', 'again', \"that'll\", 'o', 't', 'of', \"weren't\", 'we', 'have', \"didn't\", 'hadn', 'nor', 'own', 'just', 'ma', 'do', 'll', 'my', 'through', 'shan', 'had', \"you'd\", 'his', \"she's\", 'weren', 'and', 'being', 'doing', 'above', 'this', 'there', 'only', 'mustn', 'whom', 'will', \"you're\", 'he', 'themselves', 'such', 'than', \"you'll\", 'any', 'yourself', 'about', 's', 'a', 'now', 'before', 'yourselves', 'i', 'then', 'to', 'all', 'should', 'its', \"hasn't\", \"haven't\", 'out', 'how', 'very', 'below', \"it's\", 'over', 'didn', 'does', \"should've\", 'y', 'after', 'so', 'are', 'each', 'other', 'her', 'up', \"doesn't\", 'aren', 'not', 'at', 'too', 'hasn', 'with', 'few', 'mightn', 'hers', 'wouldn', 'an', 'myself', 'on', 'they', 'once', 'she', 'when', 'shouldn', 'our', 'isn', 'yours', 'won', 'where', 'itself', 'those', 'm', 'what', 'been', 'as', 'same', \"mightn't\", 'why', \"you've\", 'here', 'ain', 'needn', 'wasn', \"shouldn't\", 'who', 'while', 'haven', 'if', 'under', \"aren't\", 'them', 'him', 'into'}\n"
     ]
    }
   ],
   "source": [
    "print(stopwordlist)"
   ]
  },
  {
   "cell_type": "markdown",
   "id": "635fa60f",
   "metadata": {
    "papermill": {
     "duration": 0.017822,
     "end_time": "2023-05-12T10:36:32.740968",
     "exception": false,
     "start_time": "2023-05-12T10:36:32.723146",
     "status": "completed"
    },
    "tags": []
   },
   "source": [
    "## Defining a dict containing emojis "
   ]
  },
  {
   "cell_type": "code",
   "execution_count": 16,
   "id": "86e29fee",
   "metadata": {
    "execution": {
     "iopub.execute_input": "2023-05-12T10:36:32.779407Z",
     "iopub.status.busy": "2023-05-12T10:36:32.778912Z",
     "iopub.status.idle": "2023-05-12T10:36:32.784296Z",
     "shell.execute_reply": "2023-05-12T10:36:32.783115Z"
    },
    "papermill": {
     "duration": 0.028165,
     "end_time": "2023-05-12T10:36:32.787041",
     "exception": false,
     "start_time": "2023-05-12T10:36:32.758876",
     "status": "completed"
    },
    "tags": []
   },
   "outputs": [],
   "source": [
    "# emojis = {':)': 'smile', ':-)': 'smile', ';d': 'wink', ':-E': 'vampire', ':(': 'sad',\n",
    "#           ':-(': 'sad', ':-<': 'sad', ':P': 'raspberry', ':O': 'surprised',\n",
    "#           ':-@': 'shocked', ':@': 'shocked',':-$': 'confused', ':\\\\': 'annoyed',\n",
    "#           ':#': 'mute', ':X': 'mute', ':^)': 'smile', ':-&': 'confused', '$_$': 'greedy',\n",
    "#           '@@': 'eyeroll', ':-!': 'confused', ':-D': 'smile', ':-0': 'yell', 'O.o': 'confused',\n",
    "#           '<(-_-)>': 'robot', 'd[-_-]b': 'dj', \":'-)\": 'sadsmile', ';)': 'wink',\n",
    "#           ';-)': 'wink', 'O:-)': 'angel','O*-)': 'angel','(:-D': 'gossip', '=^.^=': 'cat'}"
   ]
  },
  {
   "cell_type": "code",
   "execution_count": 17,
   "id": "83f90186",
   "metadata": {
    "execution": {
     "iopub.execute_input": "2023-05-12T10:36:32.827618Z",
     "iopub.status.busy": "2023-05-12T10:36:32.826778Z",
     "iopub.status.idle": "2023-05-12T10:36:32.832000Z",
     "shell.execute_reply": "2023-05-12T10:36:32.831061Z"
    },
    "papermill": {
     "duration": 0.028901,
     "end_time": "2023-05-12T10:36:32.834516",
     "exception": false,
     "start_time": "2023-05-12T10:36:32.805615",
     "status": "completed"
    },
    "tags": []
   },
   "outputs": [],
   "source": [
    "# # create a pandas Series from the list\n",
    "# my_series = pd.Series(text)\n",
    "\n",
    "# # define a function to apply to each element in the Series\n",
    "# def find_key(element):\n",
    "#     for key in emojis:\n",
    "#         if key == element:\n",
    "#             return emojis[key]\n",
    "#     return None\n",
    "\n",
    "\n"
   ]
  },
  {
   "cell_type": "code",
   "execution_count": 18,
   "id": "8214b2bb",
   "metadata": {
    "execution": {
     "iopub.execute_input": "2023-05-12T10:36:32.872651Z",
     "iopub.status.busy": "2023-05-12T10:36:32.871877Z",
     "iopub.status.idle": "2023-05-12T10:36:32.876927Z",
     "shell.execute_reply": "2023-05-12T10:36:32.875860Z"
    },
    "papermill": {
     "duration": 0.026878,
     "end_time": "2023-05-12T10:36:32.879352",
     "exception": false,
     "start_time": "2023-05-12T10:36:32.852474",
     "status": "completed"
    },
    "tags": []
   },
   "outputs": [],
   "source": [
    "# # apply the function to each element in the Series using the apply() method\n",
    "# result = my_series.apply(find_key)"
   ]
  },
  {
   "cell_type": "code",
   "execution_count": 19,
   "id": "6fb23062",
   "metadata": {
    "execution": {
     "iopub.execute_input": "2023-05-12T10:36:32.917691Z",
     "iopub.status.busy": "2023-05-12T10:36:32.917315Z",
     "iopub.status.idle": "2023-05-12T10:36:32.921253Z",
     "shell.execute_reply": "2023-05-12T10:36:32.920217Z"
    },
    "papermill": {
     "duration": 0.026466,
     "end_time": "2023-05-12T10:36:32.923713",
     "exception": false,
     "start_time": "2023-05-12T10:36:32.897247",
     "status": "completed"
    },
    "tags": []
   },
   "outputs": [],
   "source": [
    "# No emigis \n",
    "# result.isna().sum()"
   ]
  },
  {
   "cell_type": "markdown",
   "id": "e924f1cf",
   "metadata": {
    "papermill": {
     "duration": 0.017462,
     "end_time": "2023-05-12T10:36:32.959237",
     "exception": false,
     "start_time": "2023-05-12T10:36:32.941775",
     "status": "completed"
    },
    "tags": []
   },
   "source": [
    "## Preprocess function"
   ]
  },
  {
   "cell_type": "code",
   "execution_count": 20,
   "id": "6e39992f",
   "metadata": {
    "execution": {
     "iopub.execute_input": "2023-05-12T10:36:32.997307Z",
     "iopub.status.busy": "2023-05-12T10:36:32.996585Z",
     "iopub.status.idle": "2023-05-12T10:36:33.006562Z",
     "shell.execute_reply": "2023-05-12T10:36:33.005800Z"
    },
    "papermill": {
     "duration": 0.032126,
     "end_time": "2023-05-12T10:36:33.009079",
     "exception": false,
     "start_time": "2023-05-12T10:36:32.976953",
     "status": "completed"
    },
    "tags": []
   },
   "outputs": [],
   "source": [
    "def preprocess(textdata):\n",
    "    processedText =[]\n",
    "\n",
    "\n",
    "\n",
    "    # Defining regex patterns.\n",
    "    urlPattern = r\"((http://)[^ ]*|(https://)[^ ]*|( www\\.)[^ ]*)\"\n",
    "    userPattern = '@[^\\s]+'\n",
    "    alphaPattern = \"[^a-zA-Z0-9]\\s\"\n",
    "    sequencePattern = r\"(.)\\1\\1+\"\n",
    "    seqReplacePattern = r\"\\1\\1\"\n",
    "\n",
    "    for tweet in textdata:\n",
    "        tweet = tweet.lower()\n",
    "\n",
    "        # Replace all URls with nothing\n",
    "        tweet = re.sub(urlPattern, \"\", tweet,flags=re.MULTILINE)\n",
    "        # Replace @USERNAME to nothing.\n",
    "        tweet = re.sub(userPattern, \"\", tweet)\n",
    "        # Replace all non alphabets.\n",
    "        tweet = re.sub(alphaPattern, \"\", tweet)\n",
    "        # Replace 3 or more consecutive letters by 2 letter.\n",
    "        tweet = re.sub(sequencePattern, seqReplacePattern, tweet)\n",
    "        # Remove punctuation\n",
    "        tweet = tweet.translate(str.maketrans(\"\",\"\",string.punctuation))\n",
    "            \n",
    "            \n",
    "        # Remove Stopwords\n",
    "        tweetTokens = word_tokenize(tweet)\n",
    "        filteredWords = [word for word in tweetTokens if word not in stopwordlist]\n",
    "        \n",
    "        # stemming \n",
    "        ps = PorterStemmer()\n",
    "        stemmedWords = [ps.stem(word) for word in filteredWords]\n",
    "        \n",
    "        # Create Lemmatizer.\n",
    "        wordLemm = WordNetLemmatizer()   \n",
    "        lemmaWords = [wordLemm.lemmatize(word,pos='a') for word in stemmedWords]\n",
    "        \n",
    "        # Joining the words of a tweet \n",
    "        cleanTweet = \" \".join(lemmaWords)\n",
    "        \n",
    "        # Adding the tweet to the processedText array\n",
    "        processedText.append(cleanTweet)\n",
    "\n",
    "    return processedText"
   ]
  },
  {
   "cell_type": "code",
   "execution_count": 21,
   "id": "395dff8f",
   "metadata": {
    "_kg_hide-output": true,
    "execution": {
     "iopub.execute_input": "2023-05-12T10:36:33.046468Z",
     "iopub.status.busy": "2023-05-12T10:36:33.046056Z",
     "iopub.status.idle": "2023-05-12T10:36:36.694601Z",
     "shell.execute_reply": "2023-05-12T10:36:36.693523Z"
    },
    "papermill": {
     "duration": 3.670312,
     "end_time": "2023-05-12T10:36:36.697217",
     "exception": false,
     "start_time": "2023-05-12T10:36:33.026905",
     "status": "completed"
    },
    "tags": []
   },
   "outputs": [],
   "source": [
    "processedtext = preprocess(text)\n"
   ]
  },
  {
   "cell_type": "code",
   "execution_count": 22,
   "id": "1e0de02f",
   "metadata": {
    "execution": {
     "iopub.execute_input": "2023-05-12T10:36:36.736265Z",
     "iopub.status.busy": "2023-05-12T10:36:36.735105Z",
     "iopub.status.idle": "2023-05-12T10:36:36.743226Z",
     "shell.execute_reply": "2023-05-12T10:36:36.742045Z"
    },
    "papermill": {
     "duration": 0.030141,
     "end_time": "2023-05-12T10:36:36.745784",
     "exception": false,
     "start_time": "2023-05-12T10:36:36.715643",
     "status": "completed"
    },
    "tags": []
   },
   "outputs": [
    {
     "data": {
      "text/plain": [
       "['awwthat bummer shoulda got david carr third day itd',\n",
       " 'upset cant updat facebook text itand might cri resultschool today alsoblah',\n",
       " 'dive mani time ballmanag save 50 rest go bound',\n",
       " 'whole bodi feel itchi like fire',\n",
       " 'noit behav allim madwhi herebecaus cant see']"
      ]
     },
     "execution_count": 22,
     "metadata": {},
     "output_type": "execute_result"
    }
   ],
   "source": [
    "processedtext[:5]"
   ]
  },
  {
   "cell_type": "markdown",
   "id": "57cbc53c",
   "metadata": {
    "papermill": {
     "duration": 0.018259,
     "end_time": "2023-05-12T10:36:36.782425",
     "exception": false,
     "start_time": "2023-05-12T10:36:36.764166",
     "status": "completed"
    },
    "tags": []
   },
   "source": [
    "## After preprocessing the text let's check if there's any missing value"
   ]
  },
  {
   "cell_type": "code",
   "execution_count": 23,
   "id": "56bdb092",
   "metadata": {
    "execution": {
     "iopub.execute_input": "2023-05-12T10:36:36.820519Z",
     "iopub.status.busy": "2023-05-12T10:36:36.820104Z",
     "iopub.status.idle": "2023-05-12T10:36:36.830231Z",
     "shell.execute_reply": "2023-05-12T10:36:36.829379Z"
    },
    "papermill": {
     "duration": 0.031817,
     "end_time": "2023-05-12T10:36:36.832416",
     "exception": false,
     "start_time": "2023-05-12T10:36:36.800599",
     "status": "completed"
    },
    "tags": []
   },
   "outputs": [
    {
     "data": {
      "text/plain": [
       "Int64Index([208, 249, 282, 398, 430, 555, 614, 1494, 1552, 1811, 1993], dtype='int64')"
      ]
     },
     "execution_count": 23,
     "metadata": {},
     "output_type": "execute_result"
    }
   ],
   "source": [
    "processedtextSerie  = pd.Series(processedtext)\n",
    "emptyRows = processedtextSerie[processedtextSerie == \"\"].index\n",
    "emptyRows"
   ]
  },
  {
   "cell_type": "code",
   "execution_count": 24,
   "id": "acd8296b",
   "metadata": {
    "execution": {
     "iopub.execute_input": "2023-05-12T10:36:36.870864Z",
     "iopub.status.busy": "2023-05-12T10:36:36.870122Z",
     "iopub.status.idle": "2023-05-12T10:36:36.875533Z",
     "shell.execute_reply": "2023-05-12T10:36:36.874669Z"
    },
    "papermill": {
     "duration": 0.027682,
     "end_time": "2023-05-12T10:36:36.878268",
     "exception": false,
     "start_time": "2023-05-12T10:36:36.850586",
     "status": "completed"
    },
    "tags": []
   },
   "outputs": [],
   "source": [
    "# dropping the empty rows\n",
    "processedtextSerie.drop(emptyRows,inplace=True)"
   ]
  },
  {
   "cell_type": "code",
   "execution_count": 25,
   "id": "5f02101c",
   "metadata": {
    "execution": {
     "iopub.execute_input": "2023-05-12T10:36:36.916975Z",
     "iopub.status.busy": "2023-05-12T10:36:36.916552Z",
     "iopub.status.idle": "2023-05-12T10:36:36.925281Z",
     "shell.execute_reply": "2023-05-12T10:36:36.924209Z"
    },
    "papermill": {
     "duration": 0.030584,
     "end_time": "2023-05-12T10:36:36.927515",
     "exception": false,
     "start_time": "2023-05-12T10:36:36.896931",
     "status": "completed"
    },
    "tags": []
   },
   "outputs": [
    {
     "data": {
      "text/plain": [
       "Int64Index([], dtype='int64')"
      ]
     },
     "execution_count": 25,
     "metadata": {},
     "output_type": "execute_result"
    }
   ],
   "source": [
    "# Rechecking if there is any missing value\n",
    "processedtextSerie[processedtextSerie == \"\"].index"
   ]
  },
  {
   "cell_type": "markdown",
   "id": "3a9ca36f",
   "metadata": {
    "papermill": {
     "duration": 0.018152,
     "end_time": "2023-05-12T10:36:36.963980",
     "exception": false,
     "start_time": "2023-05-12T10:36:36.945828",
     "status": "completed"
    },
    "tags": []
   },
   "source": [
    "# b) Convert text data to numerical"
   ]
  },
  {
   "cell_type": "markdown",
   "id": "19414e52",
   "metadata": {
    "papermill": {
     "duration": 0.01821,
     "end_time": "2023-05-12T10:36:37.000642",
     "exception": false,
     "start_time": "2023-05-12T10:36:36.982432",
     "status": "completed"
    },
    "tags": []
   },
   "source": [
    "## Bag of Words "
   ]
  },
  {
   "cell_type": "code",
   "execution_count": 26,
   "id": "6372e582",
   "metadata": {
    "execution": {
     "iopub.execute_input": "2023-05-12T10:36:37.039618Z",
     "iopub.status.busy": "2023-05-12T10:36:37.038572Z",
     "iopub.status.idle": "2023-05-12T10:36:37.051028Z",
     "shell.execute_reply": "2023-05-12T10:36:37.050108Z"
    },
    "papermill": {
     "duration": 0.03453,
     "end_time": "2023-05-12T10:36:37.053409",
     "exception": false,
     "start_time": "2023-05-12T10:36:37.018879",
     "status": "completed"
    },
    "tags": []
   },
   "outputs": [],
   "source": [
    "\n",
    "# Create bag of words\n",
    "bag_of_words = Counter()\n",
    "for tweet in processedtextSerie:\n",
    "    words = tweet.split()\n",
    "    bag_of_words.update(words)\n",
    "\n"
   ]
  },
  {
   "cell_type": "code",
   "execution_count": 27,
   "id": "be93990a",
   "metadata": {
    "execution": {
     "iopub.execute_input": "2023-05-12T10:36:37.091990Z",
     "iopub.status.busy": "2023-05-12T10:36:37.091580Z",
     "iopub.status.idle": "2023-05-12T10:36:37.098365Z",
     "shell.execute_reply": "2023-05-12T10:36:37.097284Z"
    },
    "papermill": {
     "duration": 0.028777,
     "end_time": "2023-05-12T10:36:37.100685",
     "exception": false,
     "start_time": "2023-05-12T10:36:37.071908",
     "status": "completed"
    },
    "tags": []
   },
   "outputs": [
    {
     "name": "stdout",
     "output_type": "stream",
     "text": [
      "word  count\n",
      "---------------\n",
      "awwthat 1\n",
      "bummer 1\n",
      "shoulda 1\n",
      "got 67\n",
      "david 2\n",
      "carr 1\n",
      "third 3\n",
      "day 80\n",
      "itd 1\n",
      "upset 7\n"
     ]
    }
   ],
   "source": [
    "print('word  count')\n",
    "print('-'*15)\n",
    "for i, (key, value) in enumerate(bag_of_words.items()):\n",
    "    if i >= 10:\n",
    "        break\n",
    "    print(key, value)"
   ]
  },
  {
   "cell_type": "markdown",
   "id": "60b6d78e",
   "metadata": {
    "papermill": {
     "duration": 0.018644,
     "end_time": "2023-05-12T10:36:37.138731",
     "exception": false,
     "start_time": "2023-05-12T10:36:37.120087",
     "status": "completed"
    },
    "tags": []
   },
   "source": [
    "## Zipf's Law"
   ]
  },
  {
   "cell_type": "code",
   "execution_count": 28,
   "id": "13d1276e",
   "metadata": {
    "execution": {
     "iopub.execute_input": "2023-05-12T10:36:37.178515Z",
     "iopub.status.busy": "2023-05-12T10:36:37.178098Z",
     "iopub.status.idle": "2023-05-12T10:36:38.201546Z",
     "shell.execute_reply": "2023-05-12T10:36:38.200315Z"
    },
    "papermill": {
     "duration": 1.046666,
     "end_time": "2023-05-12T10:36:38.204378",
     "exception": false,
     "start_time": "2023-05-12T10:36:37.157712",
     "status": "completed"
    },
    "tags": []
   },
   "outputs": [
    {
     "data": {
      "image/png": "[encoded data removed]",
      "text/plain": [
       "<Figure size 640x480 with 1 Axes>"
      ]
     },
     "metadata": {},
     "output_type": "display_data"
    }
   ],
   "source": [
    "# Combine all the preprocessed tweets into one string\n",
    "text = ' '.join(processedtextSerie)\n",
    "\n",
    "# Tokenize the string into words\n",
    "words = text.split()\n",
    "# Count the frequency of each word\n",
    "word_freq = Counter(words)\n",
    "# Sort the words in descending order based on their frequency\n",
    "sorted_words = sorted(word_freq.items(), key=lambda x: x[1], reverse=True)\n",
    "# Plot the frequency of each word against its rank\n",
    "ranks = range(1, len(sorted_words)+1)\n",
    "freqs = [freq for word, freq in sorted_words]\n",
    "\n",
    "plt.plot(ranks, freqs)\n",
    "plt.xscale('log')\n",
    "plt.yscale('log')\n",
    "plt.xlabel('Rank')\n",
    "plt.ylabel('Frequency')\n",
    "plt.show()"
   ]
  },
  {
   "cell_type": "code",
   "execution_count": 29,
   "id": "9c6f3c25",
   "metadata": {
    "execution": {
     "iopub.execute_input": "2023-05-12T10:36:38.244562Z",
     "iopub.status.busy": "2023-05-12T10:36:38.244182Z",
     "iopub.status.idle": "2023-05-12T10:36:38.251397Z",
     "shell.execute_reply": "2023-05-12T10:36:38.250058Z"
    },
    "papermill": {
     "duration": 0.030499,
     "end_time": "2023-05-12T10:36:38.253751",
     "exception": false,
     "start_time": "2023-05-12T10:36:38.223252",
     "status": "completed"
    },
    "tags": []
   },
   "outputs": [
    {
     "data": {
      "text/plain": [
       "[('im', 163), ('get', 156), ('go', 143), ('good', 117), ('like', 96)]"
      ]
     },
     "execution_count": 29,
     "metadata": {},
     "output_type": "execute_result"
    }
   ],
   "source": [
    "sorted_words[:5]"
   ]
  },
  {
   "cell_type": "markdown",
   "id": "78344927",
   "metadata": {
    "papermill": {
     "duration": 0.01863,
     "end_time": "2023-05-12T10:36:38.291482",
     "exception": false,
     "start_time": "2023-05-12T10:36:38.272852",
     "status": "completed"
    },
    "tags": []
   },
   "source": [
    "## N-Gram"
   ]
  },
  {
   "cell_type": "code",
   "execution_count": 30,
   "id": "b70e8cbb",
   "metadata": {
    "execution": {
     "iopub.execute_input": "2023-05-12T10:36:38.331915Z",
     "iopub.status.busy": "2023-05-12T10:36:38.331495Z",
     "iopub.status.idle": "2023-05-12T10:36:38.681599Z",
     "shell.execute_reply": "2023-05-12T10:36:38.680324Z"
    },
    "papermill": {
     "duration": 0.374111,
     "end_time": "2023-05-12T10:36:38.684540",
     "exception": false,
     "start_time": "2023-05-12T10:36:38.310429",
     "status": "completed"
    },
    "tags": []
   },
   "outputs": [
    {
     "data": {
      "text/plain": [
       "[[('awwthat', 'bummer'),\n",
       "  ('bummer', 'shoulda'),\n",
       "  ('shoulda', 'got'),\n",
       "  ('got', 'david'),\n",
       "  ('david', 'carr'),\n",
       "  ('carr', 'third'),\n",
       "  ('third', 'day'),\n",
       "  ('day', 'itd')],\n",
       " [('upset', 'cant'),\n",
       "  ('cant', 'updat'),\n",
       "  ('updat', 'facebook'),\n",
       "  ('facebook', 'text'),\n",
       "  ('text', 'itand'),\n",
       "  ('itand', 'might'),\n",
       "  ('might', 'cri'),\n",
       "  ('cri', 'resultschool'),\n",
       "  ('resultschool', 'today'),\n",
       "  ('today', 'alsoblah')],\n",
       " [('dive', 'mani'),\n",
       "  ('mani', 'time'),\n",
       "  ('time', 'ballmanag'),\n",
       "  ('ballmanag', 'save'),\n",
       "  ('save', '50'),\n",
       "  ('50', 'rest'),\n",
       "  ('rest', 'go'),\n",
       "  ('go', 'bound')],\n",
       " [('whole', 'bodi'),\n",
       "  ('bodi', 'feel'),\n",
       "  ('feel', 'itchi'),\n",
       "  ('itchi', 'like'),\n",
       "  ('like', 'fire')],\n",
       " [('noit', 'behav'),\n",
       "  ('behav', 'allim'),\n",
       "  ('allim', 'madwhi'),\n",
       "  ('madwhi', 'herebecaus'),\n",
       "  ('herebecaus', 'cant'),\n",
       "  ('cant', 'see')]]"
      ]
     },
     "execution_count": 30,
     "metadata": {},
     "output_type": "execute_result"
    }
   ],
   "source": [
    "# Define the n-gram order\n",
    "n = 2\n",
    "\n",
    "# Tokenize the tweets\n",
    "tokenized_tweets = [nltk.word_tokenize(tweet) for tweet in processedtextSerie]\n",
    "\n",
    "# Generate the n-grams for each tweet\n",
    "ngrams_list = [list(nltk.ngrams(tweet, n)) for tweet in tokenized_tweets]\n",
    "\n",
    "# Generate the n-grams\n",
    "ngrams_list = [list(nltk.ngrams(tweet, n)) for tweet in tokenized_tweets]\n",
    "\n",
    "#printing the 5 arrays in ngrams_list\n",
    "ngrams_list[:5]"
   ]
  },
  {
   "cell_type": "markdown",
   "id": "79e338a0",
   "metadata": {
    "papermill": {
     "duration": 0.018919,
     "end_time": "2023-05-12T10:36:38.723219",
     "exception": false,
     "start_time": "2023-05-12T10:36:38.704300",
     "status": "completed"
    },
    "tags": []
   },
   "source": [
    "## TF-IDF"
   ]
  },
  {
   "cell_type": "code",
   "execution_count": 31,
   "id": "de340913",
   "metadata": {
    "execution": {
     "iopub.execute_input": "2023-05-12T10:36:38.763786Z",
     "iopub.status.busy": "2023-05-12T10:36:38.763386Z",
     "iopub.status.idle": "2023-05-12T10:36:38.937663Z",
     "shell.execute_reply": "2023-05-12T10:36:38.936502Z"
    },
    "papermill": {
     "duration": 0.197793,
     "end_time": "2023-05-12T10:36:38.940250",
     "exception": false,
     "start_time": "2023-05-12T10:36:38.742457",
     "status": "completed"
    },
    "tags": []
   },
   "outputs": [
    {
     "data": {
      "text/html": [
       "<div>\n",
       "<style scoped>\n",
       "    .dataframe tbody tr th:only-of-type {\n",
       "        vertical-align: middle;\n",
       "    }\n",
       "\n",
       "    .dataframe tbody tr th {\n",
       "        vertical-align: top;\n",
       "    }\n",
       "\n",
       "    .dataframe thead th {\n",
       "        text-align: right;\n",
       "    }\n",
       "</style>\n",
       "<table border=\"1\" class=\"dataframe\">\n",
       "  <thead>\n",
       "    <tr style=\"text-align: right;\">\n",
       "      <th></th>\n",
       "      <th>aand</th>\n",
       "      <th>aaron</th>\n",
       "      <th>aaw</th>\n",
       "      <th>abl</th>\n",
       "      <th>abouttequila</th>\n",
       "      <th>absolut</th>\n",
       "      <th>absolutelywev</th>\n",
       "      <th>abt</th>\n",
       "      <th>accentblockhh</th>\n",
       "      <th>accentlol</th>\n",
       "      <th>...</th>\n",
       "      <th>yup</th>\n",
       "      <th>yupp</th>\n",
       "      <th>ze</th>\n",
       "      <th>zealand</th>\n",
       "      <th>zip</th>\n",
       "      <th>zit</th>\n",
       "      <th>zone</th>\n",
       "      <th>zoo</th>\n",
       "      <th>zrovna</th>\n",
       "      <th>ztejasyum</th>\n",
       "    </tr>\n",
       "  </thead>\n",
       "  <tbody>\n",
       "    <tr>\n",
       "      <th>0</th>\n",
       "      <td>0.0</td>\n",
       "      <td>0.0</td>\n",
       "      <td>0.0</td>\n",
       "      <td>0.0</td>\n",
       "      <td>0.0</td>\n",
       "      <td>0.0</td>\n",
       "      <td>0.0</td>\n",
       "      <td>0.0</td>\n",
       "      <td>0.0</td>\n",
       "      <td>0.0</td>\n",
       "      <td>...</td>\n",
       "      <td>0.0</td>\n",
       "      <td>0.0</td>\n",
       "      <td>0.0</td>\n",
       "      <td>0.0</td>\n",
       "      <td>0.0</td>\n",
       "      <td>0.0</td>\n",
       "      <td>0.0</td>\n",
       "      <td>0.0</td>\n",
       "      <td>0.0</td>\n",
       "      <td>0.0</td>\n",
       "    </tr>\n",
       "    <tr>\n",
       "      <th>1</th>\n",
       "      <td>0.0</td>\n",
       "      <td>0.0</td>\n",
       "      <td>0.0</td>\n",
       "      <td>0.0</td>\n",
       "      <td>0.0</td>\n",
       "      <td>0.0</td>\n",
       "      <td>0.0</td>\n",
       "      <td>0.0</td>\n",
       "      <td>0.0</td>\n",
       "      <td>0.0</td>\n",
       "      <td>...</td>\n",
       "      <td>0.0</td>\n",
       "      <td>0.0</td>\n",
       "      <td>0.0</td>\n",
       "      <td>0.0</td>\n",
       "      <td>0.0</td>\n",
       "      <td>0.0</td>\n",
       "      <td>0.0</td>\n",
       "      <td>0.0</td>\n",
       "      <td>0.0</td>\n",
       "      <td>0.0</td>\n",
       "    </tr>\n",
       "    <tr>\n",
       "      <th>2</th>\n",
       "      <td>0.0</td>\n",
       "      <td>0.0</td>\n",
       "      <td>0.0</td>\n",
       "      <td>0.0</td>\n",
       "      <td>0.0</td>\n",
       "      <td>0.0</td>\n",
       "      <td>0.0</td>\n",
       "      <td>0.0</td>\n",
       "      <td>0.0</td>\n",
       "      <td>0.0</td>\n",
       "      <td>...</td>\n",
       "      <td>0.0</td>\n",
       "      <td>0.0</td>\n",
       "      <td>0.0</td>\n",
       "      <td>0.0</td>\n",
       "      <td>0.0</td>\n",
       "      <td>0.0</td>\n",
       "      <td>0.0</td>\n",
       "      <td>0.0</td>\n",
       "      <td>0.0</td>\n",
       "      <td>0.0</td>\n",
       "    </tr>\n",
       "  </tbody>\n",
       "</table>\n",
       "<p>3 rows × 5217 columns</p>\n",
       "</div>"
      ],
      "text/plain": [
       "   aand  aaron  aaw  abl  abouttequila  absolut  absolutelywev  abt  \\\n",
       "0   0.0    0.0  0.0  0.0           0.0      0.0            0.0  0.0   \n",
       "1   0.0    0.0  0.0  0.0           0.0      0.0            0.0  0.0   \n",
       "2   0.0    0.0  0.0  0.0           0.0      0.0            0.0  0.0   \n",
       "\n",
       "   accentblockhh  accentlol  ...  yup  yupp   ze  zealand  zip  zit  zone  \\\n",
       "0            0.0        0.0  ...  0.0   0.0  0.0      0.0  0.0  0.0   0.0   \n",
       "1            0.0        0.0  ...  0.0   0.0  0.0      0.0  0.0  0.0   0.0   \n",
       "2            0.0        0.0  ...  0.0   0.0  0.0      0.0  0.0  0.0   0.0   \n",
       "\n",
       "   zoo  zrovna  ztejasyum  \n",
       "0  0.0     0.0        0.0  \n",
       "1  0.0     0.0        0.0  \n",
       "2  0.0     0.0        0.0  \n",
       "\n",
       "[3 rows x 5217 columns]"
      ]
     },
     "execution_count": 31,
     "metadata": {},
     "output_type": "execute_result"
    }
   ],
   "source": [
    "# Create the TF-IDF vectorizer\n",
    "vectorizer = TfidfVectorizer(token_pattern=r'\\b[a-zA-Z]+\\b')\n",
    "\n",
    "# Fit and transform the vectorizer on the tweets\n",
    "tfidf_matrix = vectorizer.fit_transform(processedtextSerie)\n",
    "\n",
    "# Get the feature names from the vectorizer's vocabulary\n",
    "feature_names = vectorizer.get_feature_names_out()\n",
    "\n",
    "# Convert the sparse matrix to a pandas DataFrame\n",
    "tfidf_df = pd.DataFrame(tfidf_matrix.toarray(), columns=feature_names)\n",
    "\n",
    "# Print the TF-IDF DataFrame\n",
    "tfidf_df[:3]"
   ]
  },
  {
   "cell_type": "markdown",
   "id": "3b6dbeec",
   "metadata": {
    "papermill": {
     "duration": 0.019132,
     "end_time": "2023-05-12T10:36:38.978984",
     "exception": false,
     "start_time": "2023-05-12T10:36:38.959852",
     "status": "completed"
    },
    "tags": []
   },
   "source": [
    "## Word2Vec"
   ]
  },
  {
   "cell_type": "code",
   "execution_count": 32,
   "id": "393d1573",
   "metadata": {
    "execution": {
     "iopub.execute_input": "2023-05-12T10:36:39.019989Z",
     "iopub.status.busy": "2023-05-12T10:36:39.019466Z",
     "iopub.status.idle": "2023-05-12T10:36:39.363360Z",
     "shell.execute_reply": "2023-05-12T10:36:39.362224Z"
    },
    "papermill": {
     "duration": 0.367417,
     "end_time": "2023-05-12T10:36:39.366097",
     "exception": false,
     "start_time": "2023-05-12T10:36:38.998680",
     "status": "completed"
    },
    "tags": []
   },
   "outputs": [
    {
     "name": "stdout",
     "output_type": "stream",
     "text": [
      "[-0.00884975  0.00862574 -0.00227984 -0.00134085  0.0066679   0.00132033\n",
      "  0.00719811  0.01206207  0.00423383 -0.01002444]\n"
     ]
    }
   ],
   "source": [
    "\n",
    "# Splitting each tweet into a list of words\n",
    "words = [tweet.split() for tweet in processedtextSerie]\n",
    "\n",
    "# Training Word2Vec model on the preprocessed tweets\n",
    "model = gensim.models.Word2Vec(words, min_count=1)\n",
    "\n",
    "# Getting Word2Vec embedding for a particular word\n",
    "embedding = model.wv['tweet']\n",
    "print(embedding[:10])\n"
   ]
  },
  {
   "cell_type": "markdown",
   "id": "99eed13a",
   "metadata": {
    "papermill": {
     "duration": 0.018894,
     "end_time": "2023-05-12T10:36:39.404368",
     "exception": false,
     "start_time": "2023-05-12T10:36:39.385474",
     "status": "completed"
    },
    "tags": []
   },
   "source": [
    "## BERT"
   ]
  },
  {
   "cell_type": "code",
   "execution_count": 33,
   "id": "727f4ebc",
   "metadata": {
    "execution": {
     "iopub.execute_input": "2023-05-12T10:36:39.448148Z",
     "iopub.status.busy": "2023-05-12T10:36:39.447313Z",
     "iopub.status.idle": "2023-05-12T10:36:52.255200Z",
     "shell.execute_reply": "2023-05-12T10:36:52.254267Z"
    },
    "papermill": {
     "duration": 12.832171,
     "end_time": "2023-05-12T10:36:52.257770",
     "exception": false,
     "start_time": "2023-05-12T10:36:39.425599",
     "status": "completed"
    },
    "tags": []
   },
   "outputs": [
    {
     "data": {
      "application/vnd.jupyter.widget-view+json": {
       "model_id": "7a4d92366b3e424c90f8bca18eb98917",
       "version_major": 2,
       "version_minor": 0
      },
      "text/plain": [
       "Downloading (…)okenizer_config.json:   0%|          | 0.00/28.0 [00:00<?, ?B/s]"
      ]
     },
     "metadata": {},
     "output_type": "display_data"
    },
    {
     "data": {
      "application/vnd.jupyter.widget-view+json": {
       "model_id": "6ae5ffef46c74b9b93f8e9dd86f64b4b",
       "version_major": 2,
       "version_minor": 0
      },
      "text/plain": [
       "Downloading (…)lve/main/config.json:   0%|          | 0.00/570 [00:00<?, ?B/s]"
      ]
     },
     "metadata": {},
     "output_type": "display_data"
    },
    {
     "data": {
      "application/vnd.jupyter.widget-view+json": {
       "model_id": "da0440b4a2bf43e1bcf3f226bc0321fe",
       "version_major": 2,
       "version_minor": 0
      },
      "text/plain": [
       "Downloading (…)solve/main/vocab.txt:   0%|          | 0.00/232k [00:00<?, ?B/s]"
      ]
     },
     "metadata": {},
     "output_type": "display_data"
    },
    {
     "data": {
      "application/vnd.jupyter.widget-view+json": {
       "model_id": "d8e4ce1d8a1248d48e1cd7e310df5fe0",
       "version_major": 2,
       "version_minor": 0
      },
      "text/plain": [
       "Downloading (…)/main/tokenizer.json:   0%|          | 0.00/466k [00:00<?, ?B/s]"
      ]
     },
     "metadata": {},
     "output_type": "display_data"
    },
    {
     "data": {
      "application/vnd.jupyter.widget-view+json": {
       "model_id": "e6827cb7983a4e42a83a751289e8caf8",
       "version_major": 2,
       "version_minor": 0
      },
      "text/plain": [
       "Downloading pytorch_model.bin:   0%|          | 0.00/440M [00:00<?, ?B/s]"
      ]
     },
     "metadata": {},
     "output_type": "display_data"
    },
    {
     "name": "stderr",
     "output_type": "stream",
     "text": [
      "Some weights of the model checkpoint at bert-base-uncased were not used when initializing BertModel: ['cls.predictions.transform.LayerNorm.bias', 'cls.predictions.decoder.weight', 'cls.seq_relationship.bias', 'cls.predictions.bias', 'cls.predictions.transform.LayerNorm.weight', 'cls.seq_relationship.weight', 'cls.predictions.transform.dense.weight', 'cls.predictions.transform.dense.bias']\n",
      "- This IS expected if you are initializing BertModel from the checkpoint of a model trained on another task or with another architecture (e.g. initializing a BertForSequenceClassification model from a BertForPreTraining model).\n",
      "- This IS NOT expected if you are initializing BertModel from the checkpoint of a model that you expect to be exactly identical (initializing a BertForSequenceClassification model from a BertForSequenceClassification model).\n",
      "Truncation was not explicitly activated but `max_length` is provided a specific value, please use `truncation=True` to explicitly truncate examples to max length. Defaulting to 'longest_first' truncation strategy. If you encode pairs of sequences (GLUE-style) with the tokenizer you can select this strategy more precisely by providing a specific strategy to `truncation`.\n",
      "/opt/conda/lib/python3.10/site-packages/transformers/tokenization_utils_base.py:2354: FutureWarning: The `pad_to_max_length` argument is deprecated and will be removed in a future version, use `padding=True` or `padding='longest'` to pad to the longest sequence in the batch, or use `padding='max_length'` to pad to a max length. In this case, you can give a specific length with `max_length` (e.g. `max_length=45`) or leave max_length to None to pad to the maximal input size of the model (e.g. 512 for Bert).\n",
      "  warnings.warn(\n"
     ]
    }
   ],
   "source": [
    "import torch\n",
    "from transformers import AutoTokenizer, AutoModel\n",
    "\n",
    "# Load a pre-trained BERT model and tokenizer\n",
    "model_name = \"bert-base-uncased\"\n",
    "tokenizer = AutoTokenizer.from_pretrained(model_name)\n",
    "model = AutoModel.from_pretrained(model_name)\n",
    "\n",
    "def encode_tweet(tweet):\n",
    "    # Tokenize the tweet and add special tokens for BERT\n",
    "    encoded = tokenizer.encode_plus(\n",
    "        tweet,\n",
    "        add_special_tokens=True,\n",
    "        max_length=128,\n",
    "        pad_to_max_length=True,\n",
    "        return_attention_mask=True,\n",
    "        return_tensors=\"pt\"\n",
    "    )\n",
    "\n",
    "    # Return the encoded tweet as a PyTorch tensor\n",
    "    return encoded.input_ids\n",
    "# Convert your pandas Series to a list\n",
    "tweets = list(processedtextSerie)\n",
    "\n",
    "# Encode each tweet using the BERT tokenizer\n",
    "encoded_tweets = [encode_tweet(tweet) for tweet in tweets]\n",
    "\n",
    "# Concatenate the encoded tweets into a single tensor\n",
    "encoded_tepnsor = torch.cat(encoded_tweets, dim=0)\n"
   ]
  },
  {
   "cell_type": "code",
   "execution_count": 34,
   "id": "4c33c0b4",
   "metadata": {
    "execution": {
     "iopub.execute_input": "2023-05-12T10:36:52.302504Z",
     "iopub.status.busy": "2023-05-12T10:36:52.301864Z",
     "iopub.status.idle": "2023-05-12T10:36:52.323776Z",
     "shell.execute_reply": "2023-05-12T10:36:52.322590Z"
    },
    "papermill": {
     "duration": 0.047142,
     "end_time": "2023-05-12T10:36:52.326014",
     "exception": false,
     "start_time": "2023-05-12T10:36:52.278872",
     "status": "completed"
    },
    "tags": []
   },
   "outputs": [
    {
     "data": {
      "text/plain": [
       "tensor([[  101, 22091, 26677,  ...,     0,     0,     0],\n",
       "        [  101,  6314,  2064,  ...,     0,     0,     0],\n",
       "        [  101, 11529, 23624,  ...,     0,     0,     0],\n",
       "        ...,\n",
       "        [  101,  3191,  2072,  ...,     0,     0,     0],\n",
       "        [  101,  5292,  9397,  ...,     0,     0,     0],\n",
       "        [  101,  5292,  9397,  ...,     0,     0,     0]])"
      ]
     },
     "execution_count": 34,
     "metadata": {},
     "output_type": "execute_result"
    }
   ],
   "source": [
    "encoded_tepnsor"
   ]
  }
 ],
 "metadata": {
  "kernelspec": {
   "display_name": "Python 3",
   "language": "python",
   "name": "python3"
  },
  "language_info": {
   "codemirror_mode": {
    "name": "ipython",
    "version": 3
   },
   "file_extension": ".py",
   "mimetype": "text/x-python",
   "name": "python",
   "nbconvert_exporter": "python",
   "pygments_lexer": "ipython3",
   "version": "3.10.10"
  },
  "papermill": {
   "default_parameters": {},
   "duration": 76.85545,
   "end_time": "2023-05-12T10:36:55.790872",
   "environment_variables": {},
   "exception": null,
   "input_path": "__notebook__.ipynb",
   "output_path": "__notebook__.ipynb",
   "parameters": {},
   "start_time": "2023-05-12T10:35:38.935422",
   "version": "2.4.0"
  },
  "widgets": {
   "application/vnd.jupyter.widget-state+json": {
    "state": {
     "03ccabaedaf346edad362d0e3960a8dc": {
      "model_module": "@jupyter-widgets/controls",
      "model_module_version": "1.5.0",
      "model_name": "FloatProgressModel",
      "state": {
       "_dom_classes": [],
       "_model_module": "@jupyter-widgets/controls",
       "_model_module_version": "1.5.0",
       "_model_name": "FloatProgressModel",
       "_view_count": null,
       "_view_module": "@jupyter-widgets/controls",
       "_view_module_version": "1.5.0",
       "_view_name": "ProgressView",
       "bar_style": "success",
       "description": "",
       "description_tooltip": null,
       "layout": "IPY_MODEL_c61d1bcbf94f474693c87d4ba6145cbd",
       "max": 231508.0,
       "min": 0.0,
       "orientation": "horizontal",
       "style": "IPY_MODEL_d4c07485970d437f92927758339a6687",
       "value": 231508.0
      }
     },
     "05c64bcecd6d455f9d7cc008b06f37fc": {
      "model_module": "@jupyter-widgets/base",
      "model_module_version": "1.2.0",
      "model_name": "LayoutModel",
      "state": {
       "_model_module": "@jupyter-widgets/base",
       "_model_module_version": "1.2.0",
       "_model_name": "LayoutModel",
       "_view_count": null,
       "_view_module": "@jupyter-widgets/base",
       "_view_module_version": "1.2.0",
       "_view_name": "LayoutView",
       "align_content": null,
       "align_items": null,
       "align_self": null,
       "border": null,
       "bottom": null,
       "display": null,
       "flex": null,
       "flex_flow": null,
       "grid_area": null,
       "grid_auto_columns": null,
       "grid_auto_flow": null,
       "grid_auto_rows": null,
       "grid_column": null,
       "grid_gap": null,
       "grid_row": null,
       "grid_template_areas": null,
       "grid_template_columns": null,
       "grid_template_rows": null,
       "height": null,
       "justify_content": null,
       "justify_items": null,
       "left": null,
       "margin": null,
       "max_height": null,
       "max_width": null,
       "min_height": null,
       "min_width": null,
       "object_fit": null,
       "object_position": null,
       "order": null,
       "overflow": null,
       "overflow_x": null,
       "overflow_y": null,
       "padding": null,
       "right": null,
       "top": null,
       "visibility": null,
       "width": null
      }
     },
     "0bd08d57be204656bd9f2d9116a0bae0": {
      "model_module": "@jupyter-widgets/controls",
      "model_module_version": "1.5.0",
      "model_name": "HTMLModel",
      "state": {
       "_dom_classes": [],
       "_model_module": "@jupyter-widgets/controls",
       "_model_module_version": "1.5.0",
       "_model_name": "HTMLModel",
       "_view_count": null,
       "_view_module": "@jupyter-widgets/controls",
       "_view_module_version": "1.5.0",
       "_view_name": "HTMLView",
       "description": "",
       "description_tooltip": null,
       "layout": "IPY_MODEL_3041a58453624fba9095a6034ee9fd65",
       "placeholder": "​",
       "style": "IPY_MODEL_e54463fdadcb444fa91be9c9802fec4a",
       "value": "Downloading (…)solve/main/vocab.txt: 100%"
      }
     },
     "1163943a646f45218635363a7e51a850": {
      "model_module": "@jupyter-widgets/controls",
      "model_module_version": "1.5.0",
      "model_name": "DescriptionStyleModel",
      "state": {
       "_model_module": "@jupyter-widgets/controls",
       "_model_module_version": "1.5.0",
       "_model_name": "DescriptionStyleModel",
       "_view_count": null,
       "_view_module": "@jupyter-widgets/base",
       "_view_module_version": "1.2.0",
       "_view_name": "StyleView",
       "description_width": ""
      }
     },
     "1b9be0fa12a54b91a134418a202148a3": {
      "model_module": "@jupyter-widgets/controls",
      "model_module_version": "1.5.0",
      "model_name": "HTMLModel",
      "state": {
       "_dom_classes": [],
       "_model_module": "@jupyter-widgets/controls",
       "_model_module_version": "1.5.0",
       "_model_name": "HTMLModel",
       "_view_count": null,
       "_view_module": "@jupyter-widgets/controls",
       "_view_module_version": "1.5.0",
       "_view_name": "HTMLView",
       "description": "",
       "description_tooltip": null,
       "layout": "IPY_MODEL_3cf1ed15b5ac42ae904e1e1acf941576",
       "placeholder": "​",
       "style": "IPY_MODEL_83698eca4ee2437dbc93054b9c97677c",
       "value": "Downloading (…)/main/tokenizer.json: 100%"
      }
     },
     "1bba46d713c34fca9bda270e33eb263e": {
      "model_module": "@jupyter-widgets/controls",
      "model_module_version": "1.5.0",
      "model_name": "HTMLModel",
      "state": {
       "_dom_classes": [],
       "_model_module": "@jupyter-widgets/controls",
       "_model_module_version": "1.5.0",
       "_model_name": "HTMLModel",
       "_view_count": null,
       "_view_module": "@jupyter-widgets/controls",
       "_view_module_version": "1.5.0",
       "_view_name": "HTMLView",
       "description": "",
       "description_tooltip": null,
       "layout": "IPY_MODEL_afb0435381f84e8ab44a7c1f60db438c",
       "placeholder": "​",
       "style": "IPY_MODEL_1163943a646f45218635363a7e51a850",
       "value": "Downloading (…)lve/main/config.json: 100%"
      }
     },
     "205aa476c85f48449da02d6a54dc1ad0": {
      "model_module": "@jupyter-widgets/base",
      "model_module_version": "1.2.0",
      "model_name": "LayoutModel",
      "state": {
       "_model_module": "@jupyter-widgets/base",
       "_model_module_version": "1.2.0",
       "_model_name": "LayoutModel",
       "_view_count": null,
       "_view_module": "@jupyter-widgets/base",
       "_view_module_version": "1.2.0",
       "_view_name": "LayoutView",
       "align_content": null,
       "align_items": null,
       "align_self": null,
       "border": null,
       "bottom": null,
       "display": null,
       "flex": null,
       "flex_flow": null,
       "grid_area": null,
       "grid_auto_columns": null,
       "grid_auto_flow": null,
       "grid_auto_rows": null,
       "grid_column": null,
       "grid_gap": null,
       "grid_row": null,
       "grid_template_areas": null,
       "grid_template_columns": null,
       "grid_template_rows": null,
       "height": null,
       "justify_content": null,
       "justify_items": null,
       "left": null,
       "margin": null,
       "max_height": null,
       "max_width": null,
       "min_height": null,
       "min_width": null,
       "object_fit": null,
       "object_position": null,
       "order": null,
       "overflow": null,
       "overflow_x": null,
       "overflow_y": null,
       "padding": null,
       "right": null,
       "top": null,
       "visibility": null,
       "width": null
      }
     },
     "2c0884472f0448ec91b757227379342b": {
      "model_module": "@jupyter-widgets/controls",
      "model_module_version": "1.5.0",
      "model_name": "ProgressStyleModel",
      "state": {
       "_model_module": "@jupyter-widgets/controls",
       "_model_module_version": "1.5.0",
       "_model_name": "ProgressStyleModel",
       "_view_count": null,
       "_view_module": "@jupyter-widgets/base",
       "_view_module_version": "1.2.0",
       "_view_name": "StyleView",
       "bar_color": null,
       "description_width": ""
      }
     },
     "2d6d8b55f4e7430d86610993b5359d69": {
      "model_module": "@jupyter-widgets/base",
      "model_module_version": "1.2.0",
      "model_name": "LayoutModel",
      "state": {
       "_model_module": "@jupyter-widgets/base",
       "_model_module_version": "1.2.0",
       "_model_name": "LayoutModel",
       "_view_count": null,
       "_view_module": "@jupyter-widgets/base",
       "_view_module_version": "1.2.0",
       "_view_name": "LayoutView",
       "align_content": null,
       "align_items": null,
       "align_self": null,
       "border": null,
       "bottom": null,
       "display": null,
       "flex": null,
       "flex_flow": null,
       "grid_area": null,
       "grid_auto_columns": null,
       "grid_auto_flow": null,
       "grid_auto_rows": null,
       "grid_column": null,
       "grid_gap": null,
       "grid_row": null,
       "grid_template_areas": null,
       "grid_template_columns": null,
       "grid_template_rows": null,
       "height": null,
       "justify_content": null,
       "justify_items": null,
       "left": null,
       "margin": null,
       "max_height": null,
       "max_width": null,
       "min_height": null,
       "min_width": null,
       "object_fit": null,
       "object_position": null,
       "order": null,
       "overflow": null,
       "overflow_x": null,
       "overflow_y": null,
       "padding": null,
       "right": null,
       "top": null,
       "visibility": null,
       "width": null
      }
     },
     "3041a58453624fba9095a6034ee9fd65": {
      "model_module": "@jupyter-widgets/base",
      "model_module_version": "1.2.0",
      "model_name": "LayoutModel",
      "state": {
       "_model_module": "@jupyter-widgets/base",
       "_model_module_version": "1.2.0",
       "_model_name": "LayoutModel",
       "_view_count": null,
       "_view_module": "@jupyter-widgets/base",
       "_view_module_version": "1.2.0",
       "_view_name": "LayoutView",
       "align_content": null,
       "align_items": null,
       "align_self": null,
       "border": null,
       "bottom": null,
       "display": null,
       "flex": null,
       "flex_flow": null,
       "grid_area": null,
       "grid_auto_columns": null,
       "grid_auto_flow": null,
       "grid_auto_rows": null,
       "grid_column": null,
       "grid_gap": null,
       "grid_row": null,
       "grid_template_areas": null,
       "grid_template_columns": null,
       "grid_template_rows": null,
       "height": null,
       "justify_content": null,
       "justify_items": null,
       "left": null,
       "margin": null,
       "max_height": null,
       "max_width": null,
       "min_height": null,
       "min_width": null,
       "object_fit": null,
       "object_position": null,
       "order": null,
       "overflow": null,
       "overflow_x": null,
       "overflow_y": null,
       "padding": null,
       "right": null,
       "top": null,
       "visibility": null,
       "width": null
      }
     },
     "34751e27f7e74cdb9b2473186e6ce9da": {
      "model_module": "@jupyter-widgets/base",
      "model_module_version": "1.2.0",
      "model_name": "LayoutModel",
      "state": {
       "_model_module": "@jupyter-widgets/base",
       "_model_module_version": "1.2.0",
       "_model_name": "LayoutModel",
       "_view_count": null,
       "_view_module": "@jupyter-widgets/base",
       "_view_module_version": "1.2.0",
       "_view_name": "LayoutView",
       "align_content": null,
       "align_items": null,
       "align_self": null,
       "border": null,
       "bottom": null,
       "display": null,
       "flex": null,
       "flex_flow": null,
       "grid_area": null,
       "grid_auto_columns": null,
       "grid_auto_flow": null,
       "grid_auto_rows": null,
       "grid_column": null,
       "grid_gap": null,
       "grid_row": null,
       "grid_template_areas": null,
       "grid_template_columns": null,
       "grid_template_rows": null,
       "height": null,
       "justify_content": null,
       "justify_items": null,
       "left": null,
       "margin": null,
       "max_height": null,
       "max_width": null,
       "min_height": null,
       "min_width": null,
       "object_fit": null,
       "object_position": null,
       "order": null,
       "overflow": null,
       "overflow_x": null,
       "overflow_y": null,
       "padding": null,
       "right": null,
       "top": null,
       "visibility": null,
       "width": null
      }
     },
     "360031b2d5674c85af7532761a289a24": {
      "model_module": "@jupyter-widgets/controls",
      "model_module_version": "1.5.0",
      "model_name": "FloatProgressModel",
      "state": {
       "_dom_classes": [],
       "_model_module": "@jupyter-widgets/controls",
       "_model_module_version": "1.5.0",
       "_model_name": "FloatProgressModel",
       "_view_count": null,
       "_view_module": "@jupyter-widgets/controls",
       "_view_module_version": "1.5.0",
       "_view_name": "ProgressView",
       "bar_style": "success",
       "description": "",
       "description_tooltip": null,
       "layout": "IPY_MODEL_205aa476c85f48449da02d6a54dc1ad0",
       "max": 466062.0,
       "min": 0.0,
       "orientation": "horizontal",
       "style": "IPY_MODEL_c97771290c7242b4ae8046773d91dbd8",
       "value": 466062.0
      }
     },
     "3cf1ed15b5ac42ae904e1e1acf941576": {
      "model_module": "@jupyter-widgets/base",
      "model_module_version": "1.2.0",
      "model_name": "LayoutModel",
      "state": {
       "_model_module": "@jupyter-widgets/base",
       "_model_module_version": "1.2.0",
       "_model_name": "LayoutModel",
       "_view_count": null,
       "_view_module": "@jupyter-widgets/base",
       "_view_module_version": "1.2.0",
       "_view_name": "LayoutView",
       "align_content": null,
       "align_items": null,
       "align_self": null,
       "border": null,
       "bottom": null,
       "display": null,
       "flex": null,
       "flex_flow": null,
       "grid_area": null,
       "grid_auto_columns": null,
       "grid_auto_flow": null,
       "grid_auto_rows": null,
       "grid_column": null,
       "grid_gap": null,
       "grid_row": null,
       "grid_template_areas": null,
       "grid_template_columns": null,
       "grid_template_rows": null,
       "height": null,
       "justify_content": null,
       "justify_items": null,
       "left": null,
       "margin": null,
       "max_height": null,
       "max_width": null,
       "min_height": null,
       "min_width": null,
       "object_fit": null,
       "object_position": null,
       "order": null,
       "overflow": null,
       "overflow_x": null,
       "overflow_y": null,
       "padding": null,
       "right": null,
       "top": null,
       "visibility": null,
       "width": null
      }
     },
     "4053ae188f634873917e7ab705231a1c": {
      "model_module": "@jupyter-widgets/controls",
      "model_module_version": "1.5.0",
      "model_name": "DescriptionStyleModel",
      "state": {
       "_model_module": "@jupyter-widgets/controls",
       "_model_module_version": "1.5.0",
       "_model_name": "DescriptionStyleModel",
       "_view_count": null,
       "_view_module": "@jupyter-widgets/base",
       "_view_module_version": "1.2.0",
       "_view_name": "StyleView",
       "description_width": ""
      }
     },
     "451d41cd83d14b4f9304cb261dc7f53c": {
      "model_module": "@jupyter-widgets/base",
      "model_module_version": "1.2.0",
      "model_name": "LayoutModel",
      "state": {
       "_model_module": "@jupyter-widgets/base",
       "_model_module_version": "1.2.0",
       "_model_name": "LayoutModel",
       "_view_count": null,
       "_view_module": "@jupyter-widgets/base",
       "_view_module_version": "1.2.0",
       "_view_name": "LayoutView",
       "align_content": null,
       "align_items": null,
       "align_self": null,
       "border": null,
       "bottom": null,
       "display": null,
       "flex": null,
       "flex_flow": null,
       "grid_area": null,
       "grid_auto_columns": null,
       "grid_auto_flow": null,
       "grid_auto_rows": null,
       "grid_column": null,
       "grid_gap": null,
       "grid_row": null,
       "grid_template_areas": null,
       "grid_template_columns": null,
       "grid_template_rows": null,
       "height": null,
       "justify_content": null,
       "justify_items": null,
       "left": null,
       "margin": null,
       "max_height": null,
       "max_width": null,
       "min_height": null,
       "min_width": null,
       "object_fit": null,
       "object_position": null,
       "order": null,
       "overflow": null,
       "overflow_x": null,
       "overflow_y": null,
       "padding": null,
       "right": null,
       "top": null,
       "visibility": null,
       "width": null
      }
     },
     "461568c5bce641b38330bb986c9baca2": {
      "model_module": "@jupyter-widgets/base",
      "model_module_version": "1.2.0",
      "model_name": "LayoutModel",
      "state": {
       "_model_module": "@jupyter-widgets/base",
       "_model_module_version": "1.2.0",
       "_model_name": "LayoutModel",
       "_view_count": null,
       "_view_module": "@jupyter-widgets/base",
       "_view_module_version": "1.2.0",
       "_view_name": "LayoutView",
       "align_content": null,
       "align_items": null,
       "align_self": null,
       "border": null,
       "bottom": null,
       "display": null,
       "flex": null,
       "flex_flow": null,
       "grid_area": null,
       "grid_auto_columns": null,
       "grid_auto_flow": null,
       "grid_auto_rows": null,
       "grid_column": null,
       "grid_gap": null,
       "grid_row": null,
       "grid_template_areas": null,
       "grid_template_columns": null,
       "grid_template_rows": null,
       "height": null,
       "justify_content": null,
       "justify_items": null,
       "left": null,
       "margin": null,
       "max_height": null,
       "max_width": null,
       "min_height": null,
       "min_width": null,
       "object_fit": null,
       "object_position": null,
       "order": null,
       "overflow": null,
       "overflow_x": null,
       "overflow_y": null,
       "padding": null,
       "right": null,
       "top": null,
       "visibility": null,
       "width": null
      }
     },
     "4cd6df52f20949849d4c2883c336d25b": {
      "model_module": "@jupyter-widgets/base",
      "model_module_version": "1.2.0",
      "model_name": "LayoutModel",
      "state": {
       "_model_module": "@jupyter-widgets/base",
       "_model_module_version": "1.2.0",
       "_model_name": "LayoutModel",
       "_view_count": null,
       "_view_module": "@jupyter-widgets/base",
       "_view_module_version": "1.2.0",
       "_view_name": "LayoutView",
       "align_content": null,
       "align_items": null,
       "align_self": null,
       "border": null,
       "bottom": null,
       "display": null,
       "flex": null,
       "flex_flow": null,
       "grid_area": null,
       "grid_auto_columns": null,
       "grid_auto_flow": null,
       "grid_auto_rows": null,
       "grid_column": null,
       "grid_gap": null,
       "grid_row": null,
       "grid_template_areas": null,
       "grid_template_columns": null,
       "grid_template_rows": null,
       "height": null,
       "justify_content": null,
       "justify_items": null,
       "left": null,
       "margin": null,
       "max_height": null,
       "max_width": null,
       "min_height": null,
       "min_width": null,
       "object_fit": null,
       "object_position": null,
       "order": null,
       "overflow": null,
       "overflow_x": null,
       "overflow_y": null,
       "padding": null,
       "right": null,
       "top": null,
       "visibility": null,
       "width": null
      }
     },
     "6319a40ee802412cbb482958ce1758a7": {
      "model_module": "@jupyter-widgets/controls",
      "model_module_version": "1.5.0",
      "model_name": "HTMLModel",
      "state": {
       "_dom_classes": [],
       "_model_module": "@jupyter-widgets/controls",
       "_model_module_version": "1.5.0",
       "_model_name": "HTMLModel",
       "_view_count": null,
       "_view_module": "@jupyter-widgets/controls",
       "_view_module_version": "1.5.0",
       "_view_name": "HTMLView",
       "description": "",
       "description_tooltip": null,
       "layout": "IPY_MODEL_703f796d5ba64dd9affe59c8e3ff43ed",
       "placeholder": "​",
       "style": "IPY_MODEL_4053ae188f634873917e7ab705231a1c",
       "value": "Downloading pytorch_model.bin: 100%"
      }
     },
     "69aa2c4af5cb402e8b153f38f8a1f0d1": {
      "model_module": "@jupyter-widgets/controls",
      "model_module_version": "1.5.0",
      "model_name": "ProgressStyleModel",
      "state": {
       "_model_module": "@jupyter-widgets/controls",
       "_model_module_version": "1.5.0",
       "_model_name": "ProgressStyleModel",
       "_view_count": null,
       "_view_module": "@jupyter-widgets/base",
       "_view_module_version": "1.2.0",
       "_view_name": "StyleView",
       "bar_color": null,
       "description_width": ""
      }
     },
     "6ae5ffef46c74b9b93f8e9dd86f64b4b": {
      "model_module": "@jupyter-widgets/controls",
      "model_module_version": "1.5.0",
      "model_name": "HBoxModel",
      "state": {
       "_dom_classes": [],
       "_model_module": "@jupyter-widgets/controls",
       "_model_module_version": "1.5.0",
       "_model_name": "HBoxModel",
       "_view_count": null,
       "_view_module": "@jupyter-widgets/controls",
       "_view_module_version": "1.5.0",
       "_view_name": "HBoxView",
       "box_style": "",
       "children": [
        "IPY_MODEL_1bba46d713c34fca9bda270e33eb263e",
        "IPY_MODEL_e7ee97d622dd4b38994cbd1cefd0e66e",
        "IPY_MODEL_d94e55125f8548aca1a2c6721fac03e1"
       ],
       "layout": "IPY_MODEL_05c64bcecd6d455f9d7cc008b06f37fc"
      }
     },
     "703f796d5ba64dd9affe59c8e3ff43ed": {
      "model_module": "@jupyter-widgets/base",
      "model_module_version": "1.2.0",
      "model_name": "LayoutModel",
      "state": {
       "_model_module": "@jupyter-widgets/base",
       "_model_module_version": "1.2.0",
       "_model_name": "LayoutModel",
       "_view_count": null,
       "_view_module": "@jupyter-widgets/base",
       "_view_module_version": "1.2.0",
       "_view_name": "LayoutView",
       "align_content": null,
       "align_items": null,
       "align_self": null,
       "border": null,
       "bottom": null,
       "display": null,
       "flex": null,
       "flex_flow": null,
       "grid_area": null,
       "grid_auto_columns": null,
       "grid_auto_flow": null,
       "grid_auto_rows": null,
       "grid_column": null,
       "grid_gap": null,
       "grid_row": null,
       "grid_template_areas": null,
       "grid_template_columns": null,
       "grid_template_rows": null,
       "height": null,
       "justify_content": null,
       "justify_items": null,
       "left": null,
       "margin": null,
       "max_height": null,
       "max_width": null,
       "min_height": null,
       "min_width": null,
       "object_fit": null,
       "object_position": null,
       "order": null,
       "overflow": null,
       "overflow_x": null,
       "overflow_y": null,
       "padding": null,
       "right": null,
       "top": null,
       "visibility": null,
       "width": null
      }
     },
     "7551df332a624feb98d6a27f0748ddff": {
      "model_module": "@jupyter-widgets/base",
      "model_module_version": "1.2.0",
      "model_name": "LayoutModel",
      "state": {
       "_model_module": "@jupyter-widgets/base",
       "_model_module_version": "1.2.0",
       "_model_name": "LayoutModel",
       "_view_count": null,
       "_view_module": "@jupyter-widgets/base",
       "_view_module_version": "1.2.0",
       "_view_name": "LayoutView",
       "align_content": null,
       "align_items": null,
       "align_self": null,
       "border": null,
       "bottom": null,
       "display": null,
       "flex": null,
       "flex_flow": null,
       "grid_area": null,
       "grid_auto_columns": null,
       "grid_auto_flow": null,
       "grid_auto_rows": null,
       "grid_column": null,
       "grid_gap": null,
       "grid_row": null,
       "grid_template_areas": null,
       "grid_template_columns": null,
       "grid_template_rows": null,
       "height": null,
       "justify_content": null,
       "justify_items": null,
       "left": null,
       "margin": null,
       "max_height": null,
       "max_width": null,
       "min_height": null,
       "min_width": null,
       "object_fit": null,
       "object_position": null,
       "order": null,
       "overflow": null,
       "overflow_x": null,
       "overflow_y": null,
       "padding": null,
       "right": null,
       "top": null,
       "visibility": null,
       "width": null
      }
     },
     "7a4d92366b3e424c90f8bca18eb98917": {
      "model_module": "@jupyter-widgets/controls",
      "model_module_version": "1.5.0",
      "model_name": "HBoxModel",
      "state": {
       "_dom_classes": [],
       "_model_module": "@jupyter-widgets/controls",
       "_model_module_version": "1.5.0",
       "_model_name": "HBoxModel",
       "_view_count": null,
       "_view_module": "@jupyter-widgets/controls",
       "_view_module_version": "1.5.0",
       "_view_name": "HBoxView",
       "box_style": "",
       "children": [
        "IPY_MODEL_cc0d8fceca344e16a66d15a604bcd449",
        "IPY_MODEL_aed8843a1573496bad961cb094d8c9f0",
        "IPY_MODEL_b442541c7e634e4b82d3b3f79c385738"
       ],
       "layout": "IPY_MODEL_e414823e5fa346e492f6ebcc4ea65d49"
      }
     },
     "8029881d3e58472299e243f4af244826": {
      "model_module": "@jupyter-widgets/controls",
      "model_module_version": "1.5.0",
      "model_name": "DescriptionStyleModel",
      "state": {
       "_model_module": "@jupyter-widgets/controls",
       "_model_module_version": "1.5.0",
       "_model_name": "DescriptionStyleModel",
       "_view_count": null,
       "_view_module": "@jupyter-widgets/base",
       "_view_module_version": "1.2.0",
       "_view_name": "StyleView",
       "description_width": ""
      }
     },
     "83698eca4ee2437dbc93054b9c97677c": {
      "model_module": "@jupyter-widgets/controls",
      "model_module_version": "1.5.0",
      "model_name": "DescriptionStyleModel",
      "state": {
       "_model_module": "@jupyter-widgets/controls",
       "_model_module_version": "1.5.0",
       "_model_name": "DescriptionStyleModel",
       "_view_count": null,
       "_view_module": "@jupyter-widgets/base",
       "_view_module_version": "1.2.0",
       "_view_name": "StyleView",
       "description_width": ""
      }
     },
     "8ae8da7ea2d444909cce11063e1ddfc7": {
      "model_module": "@jupyter-widgets/controls",
      "model_module_version": "1.5.0",
      "model_name": "DescriptionStyleModel",
      "state": {
       "_model_module": "@jupyter-widgets/controls",
       "_model_module_version": "1.5.0",
       "_model_name": "DescriptionStyleModel",
       "_view_count": null,
       "_view_module": "@jupyter-widgets/base",
       "_view_module_version": "1.2.0",
       "_view_name": "StyleView",
       "description_width": ""
      }
     },
     "92e3693cb3434cfe80b031c6f48542ca": {
      "model_module": "@jupyter-widgets/controls",
      "model_module_version": "1.5.0",
      "model_name": "ProgressStyleModel",
      "state": {
       "_model_module": "@jupyter-widgets/controls",
       "_model_module_version": "1.5.0",
       "_model_name": "ProgressStyleModel",
       "_view_count": null,
       "_view_module": "@jupyter-widgets/base",
       "_view_module_version": "1.2.0",
       "_view_name": "StyleView",
       "bar_color": null,
       "description_width": ""
      }
     },
     "94ba5143c6d547fe9004006263fc8a4a": {
      "model_module": "@jupyter-widgets/controls",
      "model_module_version": "1.5.0",
      "model_name": "DescriptionStyleModel",
      "state": {
       "_model_module": "@jupyter-widgets/controls",
       "_model_module_version": "1.5.0",
       "_model_name": "DescriptionStyleModel",
       "_view_count": null,
       "_view_module": "@jupyter-widgets/base",
       "_view_module_version": "1.2.0",
       "_view_name": "StyleView",
       "description_width": ""
      }
     },
     "95bae6de0dc74491886a5df01a334b5b": {
      "model_module": "@jupyter-widgets/base",
      "model_module_version": "1.2.0",
      "model_name": "LayoutModel",
      "state": {
       "_model_module": "@jupyter-widgets/base",
       "_model_module_version": "1.2.0",
       "_model_name": "LayoutModel",
       "_view_count": null,
       "_view_module": "@jupyter-widgets/base",
       "_view_module_version": "1.2.0",
       "_view_name": "LayoutView",
       "align_content": null,
       "align_items": null,
       "align_self": null,
       "border": null,
       "bottom": null,
       "display": null,
       "flex": null,
       "flex_flow": null,
       "grid_area": null,
       "grid_auto_columns": null,
       "grid_auto_flow": null,
       "grid_auto_rows": null,
       "grid_column": null,
       "grid_gap": null,
       "grid_row": null,
       "grid_template_areas": null,
       "grid_template_columns": null,
       "grid_template_rows": null,
       "height": null,
       "justify_content": null,
       "justify_items": null,
       "left": null,
       "margin": null,
       "max_height": null,
       "max_width": null,
       "min_height": null,
       "min_width": null,
       "object_fit": null,
       "object_position": null,
       "order": null,
       "overflow": null,
       "overflow_x": null,
       "overflow_y": null,
       "padding": null,
       "right": null,
       "top": null,
       "visibility": null,
       "width": null
      }
     },
     "a07c0bd4d58a4df59367879497ed0148": {
      "model_module": "@jupyter-widgets/controls",
      "model_module_version": "1.5.0",
      "model_name": "HTMLModel",
      "state": {
       "_dom_classes": [],
       "_model_module": "@jupyter-widgets/controls",
       "_model_module_version": "1.5.0",
       "_model_name": "HTMLModel",
       "_view_count": null,
       "_view_module": "@jupyter-widgets/controls",
       "_view_module_version": "1.5.0",
       "_view_name": "HTMLView",
       "description": "",
       "description_tooltip": null,
       "layout": "IPY_MODEL_451d41cd83d14b4f9304cb261dc7f53c",
       "placeholder": "​",
       "style": "IPY_MODEL_cc7d71a2c340450ea3fdf7fa5604cc07",
       "value": " 440M/440M [00:01&lt;00:00, 317MB/s]"
      }
     },
     "a0b49563fc354c929b47811174708f98": {
      "model_module": "@jupyter-widgets/controls",
      "model_module_version": "1.5.0",
      "model_name": "DescriptionStyleModel",
      "state": {
       "_model_module": "@jupyter-widgets/controls",
       "_model_module_version": "1.5.0",
       "_model_name": "DescriptionStyleModel",
       "_view_count": null,
       "_view_module": "@jupyter-widgets/base",
       "_view_module_version": "1.2.0",
       "_view_name": "StyleView",
       "description_width": ""
      }
     },
     "aed8843a1573496bad961cb094d8c9f0": {
      "model_module": "@jupyter-widgets/controls",
      "model_module_version": "1.5.0",
      "model_name": "FloatProgressModel",
      "state": {
       "_dom_classes": [],
       "_model_module": "@jupyter-widgets/controls",
       "_model_module_version": "1.5.0",
       "_model_name": "FloatProgressModel",
       "_view_count": null,
       "_view_module": "@jupyter-widgets/controls",
       "_view_module_version": "1.5.0",
       "_view_name": "ProgressView",
       "bar_style": "success",
       "description": "",
       "description_tooltip": null,
       "layout": "IPY_MODEL_95bae6de0dc74491886a5df01a334b5b",
       "max": 28.0,
       "min": 0.0,
       "orientation": "horizontal",
       "style": "IPY_MODEL_2c0884472f0448ec91b757227379342b",
       "value": 28.0
      }
     },
     "afb0435381f84e8ab44a7c1f60db438c": {
      "model_module": "@jupyter-widgets/base",
      "model_module_version": "1.2.0",
      "model_name": "LayoutModel",
      "state": {
       "_model_module": "@jupyter-widgets/base",
       "_model_module_version": "1.2.0",
       "_model_name": "LayoutModel",
       "_view_count": null,
       "_view_module": "@jupyter-widgets/base",
       "_view_module_version": "1.2.0",
       "_view_name": "LayoutView",
       "align_content": null,
       "align_items": null,
       "align_self": null,
       "border": null,
       "bottom": null,
       "display": null,
       "flex": null,
       "flex_flow": null,
       "grid_area": null,
       "grid_auto_columns": null,
       "grid_auto_flow": null,
       "grid_auto_rows": null,
       "grid_column": null,
       "grid_gap": null,
       "grid_row": null,
       "grid_template_areas": null,
       "grid_template_columns": null,
       "grid_template_rows": null,
       "height": null,
       "justify_content": null,
       "justify_items": null,
       "left": null,
       "margin": null,
       "max_height": null,
       "max_width": null,
       "min_height": null,
       "min_width": null,
       "object_fit": null,
       "object_position": null,
       "order": null,
       "overflow": null,
       "overflow_x": null,
       "overflow_y": null,
       "padding": null,
       "right": null,
       "top": null,
       "visibility": null,
       "width": null
      }
     },
     "b1ce6b97ce174461891ff78c1ecf481b": {
      "model_module": "@jupyter-widgets/base",
      "model_module_version": "1.2.0",
      "model_name": "LayoutModel",
      "state": {
       "_model_module": "@jupyter-widgets/base",
       "_model_module_version": "1.2.0",
       "_model_name": "LayoutModel",
       "_view_count": null,
       "_view_module": "@jupyter-widgets/base",
       "_view_module_version": "1.2.0",
       "_view_name": "LayoutView",
       "align_content": null,
       "align_items": null,
       "align_self": null,
       "border": null,
       "bottom": null,
       "display": null,
       "flex": null,
       "flex_flow": null,
       "grid_area": null,
       "grid_auto_columns": null,
       "grid_auto_flow": null,
       "grid_auto_rows": null,
       "grid_column": null,
       "grid_gap": null,
       "grid_row": null,
       "grid_template_areas": null,
       "grid_template_columns": null,
       "grid_template_rows": null,
       "height": null,
       "justify_content": null,
       "justify_items": null,
       "left": null,
       "margin": null,
       "max_height": null,
       "max_width": null,
       "min_height": null,
       "min_width": null,
       "object_fit": null,
       "object_position": null,
       "order": null,
       "overflow": null,
       "overflow_x": null,
       "overflow_y": null,
       "padding": null,
       "right": null,
       "top": null,
       "visibility": null,
       "width": null
      }
     },
     "b2a6f3ea95c744d39b5a2588b769aba3": {
      "model_module": "@jupyter-widgets/base",
      "model_module_version": "1.2.0",
      "model_name": "LayoutModel",
      "state": {
       "_model_module": "@jupyter-widgets/base",
       "_model_module_version": "1.2.0",
       "_model_name": "LayoutModel",
       "_view_count": null,
       "_view_module": "@jupyter-widgets/base",
       "_view_module_version": "1.2.0",
       "_view_name": "LayoutView",
       "align_content": null,
       "align_items": null,
       "align_self": null,
       "border": null,
       "bottom": null,
       "display": null,
       "flex": null,
       "flex_flow": null,
       "grid_area": null,
       "grid_auto_columns": null,
       "grid_auto_flow": null,
       "grid_auto_rows": null,
       "grid_column": null,
       "grid_gap": null,
       "grid_row": null,
       "grid_template_areas": null,
       "grid_template_columns": null,
       "grid_template_rows": null,
       "height": null,
       "justify_content": null,
       "justify_items": null,
       "left": null,
       "margin": null,
       "max_height": null,
       "max_width": null,
       "min_height": null,
       "min_width": null,
       "object_fit": null,
       "object_position": null,
       "order": null,
       "overflow": null,
       "overflow_x": null,
       "overflow_y": null,
       "padding": null,
       "right": null,
       "top": null,
       "visibility": null,
       "width": null
      }
     },
     "b3a195922ff8407c90e725a2aa5a0d8d": {
      "model_module": "@jupyter-widgets/controls",
      "model_module_version": "1.5.0",
      "model_name": "HTMLModel",
      "state": {
       "_dom_classes": [],
       "_model_module": "@jupyter-widgets/controls",
       "_model_module_version": "1.5.0",
       "_model_name": "HTMLModel",
       "_view_count": null,
       "_view_module": "@jupyter-widgets/controls",
       "_view_module_version": "1.5.0",
       "_view_name": "HTMLView",
       "description": "",
       "description_tooltip": null,
       "layout": "IPY_MODEL_dd0ed2a97d944bf8bbd7df66333c01bd",
       "placeholder": "​",
       "style": "IPY_MODEL_94ba5143c6d547fe9004006263fc8a4a",
       "value": " 232k/232k [00:00&lt;00:00, 7.44MB/s]"
      }
     },
     "b43c54f0d8244f89b363de81fb817a1a": {
      "model_module": "@jupyter-widgets/controls",
      "model_module_version": "1.5.0",
      "model_name": "FloatProgressModel",
      "state": {
       "_dom_classes": [],
       "_model_module": "@jupyter-widgets/controls",
       "_model_module_version": "1.5.0",
       "_model_name": "FloatProgressModel",
       "_view_count": null,
       "_view_module": "@jupyter-widgets/controls",
       "_view_module_version": "1.5.0",
       "_view_name": "ProgressView",
       "bar_style": "success",
       "description": "",
       "description_tooltip": null,
       "layout": "IPY_MODEL_b2a6f3ea95c744d39b5a2588b769aba3",
       "max": 440473133.0,
       "min": 0.0,
       "orientation": "horizontal",
       "style": "IPY_MODEL_92e3693cb3434cfe80b031c6f48542ca",
       "value": 440473133.0
      }
     },
     "b442541c7e634e4b82d3b3f79c385738": {
      "model_module": "@jupyter-widgets/controls",
      "model_module_version": "1.5.0",
      "model_name": "HTMLModel",
      "state": {
       "_dom_classes": [],
       "_model_module": "@jupyter-widgets/controls",
       "_model_module_version": "1.5.0",
       "_model_name": "HTMLModel",
       "_view_count": null,
       "_view_module": "@jupyter-widgets/controls",
       "_view_module_version": "1.5.0",
       "_view_name": "HTMLView",
       "description": "",
       "description_tooltip": null,
       "layout": "IPY_MODEL_2d6d8b55f4e7430d86610993b5359d69",
       "placeholder": "​",
       "style": "IPY_MODEL_8ae8da7ea2d444909cce11063e1ddfc7",
       "value": " 28.0/28.0 [00:00&lt;00:00, 1.26kB/s]"
      }
     },
     "bbdc14c61a1f41568e2b6abc00e80a01": {
      "model_module": "@jupyter-widgets/base",
      "model_module_version": "1.2.0",
      "model_name": "LayoutModel",
      "state": {
       "_model_module": "@jupyter-widgets/base",
       "_model_module_version": "1.2.0",
       "_model_name": "LayoutModel",
       "_view_count": null,
       "_view_module": "@jupyter-widgets/base",
       "_view_module_version": "1.2.0",
       "_view_name": "LayoutView",
       "align_content": null,
       "align_items": null,
       "align_self": null,
       "border": null,
       "bottom": null,
       "display": null,
       "flex": null,
       "flex_flow": null,
       "grid_area": null,
       "grid_auto_columns": null,
       "grid_auto_flow": null,
       "grid_auto_rows": null,
       "grid_column": null,
       "grid_gap": null,
       "grid_row": null,
       "grid_template_areas": null,
       "grid_template_columns": null,
       "grid_template_rows": null,
       "height": null,
       "justify_content": null,
       "justify_items": null,
       "left": null,
       "margin": null,
       "max_height": null,
       "max_width": null,
       "min_height": null,
       "min_width": null,
       "object_fit": null,
       "object_position": null,
       "order": null,
       "overflow": null,
       "overflow_x": null,
       "overflow_y": null,
       "padding": null,
       "right": null,
       "top": null,
       "visibility": null,
       "width": null
      }
     },
     "c61d1bcbf94f474693c87d4ba6145cbd": {
      "model_module": "@jupyter-widgets/base",
      "model_module_version": "1.2.0",
      "model_name": "LayoutModel",
      "state": {
       "_model_module": "@jupyter-widgets/base",
       "_model_module_version": "1.2.0",
       "_model_name": "LayoutModel",
       "_view_count": null,
       "_view_module": "@jupyter-widgets/base",
       "_view_module_version": "1.2.0",
       "_view_name": "LayoutView",
       "align_content": null,
       "align_items": null,
       "align_self": null,
       "border": null,
       "bottom": null,
       "display": null,
       "flex": null,
       "flex_flow": null,
       "grid_area": null,
       "grid_auto_columns": null,
       "grid_auto_flow": null,
       "grid_auto_rows": null,
       "grid_column": null,
       "grid_gap": null,
       "grid_row": null,
       "grid_template_areas": null,
       "grid_template_columns": null,
       "grid_template_rows": null,
       "height": null,
       "justify_content": null,
       "justify_items": null,
       "left": null,
       "margin": null,
       "max_height": null,
       "max_width": null,
       "min_height": null,
       "min_width": null,
       "object_fit": null,
       "object_position": null,
       "order": null,
       "overflow": null,
       "overflow_x": null,
       "overflow_y": null,
       "padding": null,
       "right": null,
       "top": null,
       "visibility": null,
       "width": null
      }
     },
     "c6af049abd1e44918c129f9f7c60135f": {
      "model_module": "@jupyter-widgets/base",
      "model_module_version": "1.2.0",
      "model_name": "LayoutModel",
      "state": {
       "_model_module": "@jupyter-widgets/base",
       "_model_module_version": "1.2.0",
       "_model_name": "LayoutModel",
       "_view_count": null,
       "_view_module": "@jupyter-widgets/base",
       "_view_module_version": "1.2.0",
       "_view_name": "LayoutView",
       "align_content": null,
       "align_items": null,
       "align_self": null,
       "border": null,
       "bottom": null,
       "display": null,
       "flex": null,
       "flex_flow": null,
       "grid_area": null,
       "grid_auto_columns": null,
       "grid_auto_flow": null,
       "grid_auto_rows": null,
       "grid_column": null,
       "grid_gap": null,
       "grid_row": null,
       "grid_template_areas": null,
       "grid_template_columns": null,
       "grid_template_rows": null,
       "height": null,
       "justify_content": null,
       "justify_items": null,
       "left": null,
       "margin": null,
       "max_height": null,
       "max_width": null,
       "min_height": null,
       "min_width": null,
       "object_fit": null,
       "object_position": null,
       "order": null,
       "overflow": null,
       "overflow_x": null,
       "overflow_y": null,
       "padding": null,
       "right": null,
       "top": null,
       "visibility": null,
       "width": null
      }
     },
     "c97771290c7242b4ae8046773d91dbd8": {
      "model_module": "@jupyter-widgets/controls",
      "model_module_version": "1.5.0",
      "model_name": "ProgressStyleModel",
      "state": {
       "_model_module": "@jupyter-widgets/controls",
       "_model_module_version": "1.5.0",
       "_model_name": "ProgressStyleModel",
       "_view_count": null,
       "_view_module": "@jupyter-widgets/base",
       "_view_module_version": "1.2.0",
       "_view_name": "StyleView",
       "bar_color": null,
       "description_width": ""
      }
     },
     "cbea2ae73f3d4d5f820061fd6a9a835b": {
      "model_module": "@jupyter-widgets/controls",
      "model_module_version": "1.5.0",
      "model_name": "DescriptionStyleModel",
      "state": {
       "_model_module": "@jupyter-widgets/controls",
       "_model_module_version": "1.5.0",
       "_model_name": "DescriptionStyleModel",
       "_view_count": null,
       "_view_module": "@jupyter-widgets/base",
       "_view_module_version": "1.2.0",
       "_view_name": "StyleView",
       "description_width": ""
      }
     },
     "cc0d8fceca344e16a66d15a604bcd449": {
      "model_module": "@jupyter-widgets/controls",
      "model_module_version": "1.5.0",
      "model_name": "HTMLModel",
      "state": {
       "_dom_classes": [],
       "_model_module": "@jupyter-widgets/controls",
       "_model_module_version": "1.5.0",
       "_model_name": "HTMLModel",
       "_view_count": null,
       "_view_module": "@jupyter-widgets/controls",
       "_view_module_version": "1.5.0",
       "_view_name": "HTMLView",
       "description": "",
       "description_tooltip": null,
       "layout": "IPY_MODEL_b1ce6b97ce174461891ff78c1ecf481b",
       "placeholder": "​",
       "style": "IPY_MODEL_cbea2ae73f3d4d5f820061fd6a9a835b",
       "value": "Downloading (…)okenizer_config.json: 100%"
      }
     },
     "cc7d71a2c340450ea3fdf7fa5604cc07": {
      "model_module": "@jupyter-widgets/controls",
      "model_module_version": "1.5.0",
      "model_name": "DescriptionStyleModel",
      "state": {
       "_model_module": "@jupyter-widgets/controls",
       "_model_module_version": "1.5.0",
       "_model_name": "DescriptionStyleModel",
       "_view_count": null,
       "_view_module": "@jupyter-widgets/base",
       "_view_module_version": "1.2.0",
       "_view_name": "StyleView",
       "description_width": ""
      }
     },
     "d4c07485970d437f92927758339a6687": {
      "model_module": "@jupyter-widgets/controls",
      "model_module_version": "1.5.0",
      "model_name": "ProgressStyleModel",
      "state": {
       "_model_module": "@jupyter-widgets/controls",
       "_model_module_version": "1.5.0",
       "_model_name": "ProgressStyleModel",
       "_view_count": null,
       "_view_module": "@jupyter-widgets/base",
       "_view_module_version": "1.2.0",
       "_view_name": "StyleView",
       "bar_color": null,
       "description_width": ""
      }
     },
     "d8e4ce1d8a1248d48e1cd7e310df5fe0": {
      "model_module": "@jupyter-widgets/controls",
      "model_module_version": "1.5.0",
      "model_name": "HBoxModel",
      "state": {
       "_dom_classes": [],
       "_model_module": "@jupyter-widgets/controls",
       "_model_module_version": "1.5.0",
       "_model_name": "HBoxModel",
       "_view_count": null,
       "_view_module": "@jupyter-widgets/controls",
       "_view_module_version": "1.5.0",
       "_view_name": "HBoxView",
       "box_style": "",
       "children": [
        "IPY_MODEL_1b9be0fa12a54b91a134418a202148a3",
        "IPY_MODEL_360031b2d5674c85af7532761a289a24",
        "IPY_MODEL_e36ae92e767f4e91a16d7842ef940f51"
       ],
       "layout": "IPY_MODEL_7551df332a624feb98d6a27f0748ddff"
      }
     },
     "d94e55125f8548aca1a2c6721fac03e1": {
      "model_module": "@jupyter-widgets/controls",
      "model_module_version": "1.5.0",
      "model_name": "HTMLModel",
      "state": {
       "_dom_classes": [],
       "_model_module": "@jupyter-widgets/controls",
       "_model_module_version": "1.5.0",
       "_model_name": "HTMLModel",
       "_view_count": null,
       "_view_module": "@jupyter-widgets/controls",
       "_view_module_version": "1.5.0",
       "_view_name": "HTMLView",
       "description": "",
       "description_tooltip": null,
       "layout": "IPY_MODEL_461568c5bce641b38330bb986c9baca2",
       "placeholder": "​",
       "style": "IPY_MODEL_a0b49563fc354c929b47811174708f98",
       "value": " 570/570 [00:00&lt;00:00, 24.4kB/s]"
      }
     },
     "da0440b4a2bf43e1bcf3f226bc0321fe": {
      "model_module": "@jupyter-widgets/controls",
      "model_module_version": "1.5.0",
      "model_name": "HBoxModel",
      "state": {
       "_dom_classes": [],
       "_model_module": "@jupyter-widgets/controls",
       "_model_module_version": "1.5.0",
       "_model_name": "HBoxModel",
       "_view_count": null,
       "_view_module": "@jupyter-widgets/controls",
       "_view_module_version": "1.5.0",
       "_view_name": "HBoxView",
       "box_style": "",
       "children": [
        "IPY_MODEL_0bd08d57be204656bd9f2d9116a0bae0",
        "IPY_MODEL_03ccabaedaf346edad362d0e3960a8dc",
        "IPY_MODEL_b3a195922ff8407c90e725a2aa5a0d8d"
       ],
       "layout": "IPY_MODEL_c6af049abd1e44918c129f9f7c60135f"
      }
     },
     "dd0ed2a97d944bf8bbd7df66333c01bd": {
      "model_module": "@jupyter-widgets/base",
      "model_module_version": "1.2.0",
      "model_name": "LayoutModel",
      "state": {
       "_model_module": "@jupyter-widgets/base",
       "_model_module_version": "1.2.0",
       "_model_name": "LayoutModel",
       "_view_count": null,
       "_view_module": "@jupyter-widgets/base",
       "_view_module_version": "1.2.0",
       "_view_name": "LayoutView",
       "align_content": null,
       "align_items": null,
       "align_self": null,
       "border": null,
       "bottom": null,
       "display": null,
       "flex": null,
       "flex_flow": null,
       "grid_area": null,
       "grid_auto_columns": null,
       "grid_auto_flow": null,
       "grid_auto_rows": null,
       "grid_column": null,
       "grid_gap": null,
       "grid_row": null,
       "grid_template_areas": null,
       "grid_template_columns": null,
       "grid_template_rows": null,
       "height": null,
       "justify_content": null,
       "justify_items": null,
       "left": null,
       "margin": null,
       "max_height": null,
       "max_width": null,
       "min_height": null,
       "min_width": null,
       "object_fit": null,
       "object_position": null,
       "order": null,
       "overflow": null,
       "overflow_x": null,
       "overflow_y": null,
       "padding": null,
       "right": null,
       "top": null,
       "visibility": null,
       "width": null
      }
     },
     "e36ae92e767f4e91a16d7842ef940f51": {
      "model_module": "@jupyter-widgets/controls",
      "model_module_version": "1.5.0",
      "model_name": "HTMLModel",
      "state": {
       "_dom_classes": [],
       "_model_module": "@jupyter-widgets/controls",
       "_model_module_version": "1.5.0",
       "_model_name": "HTMLModel",
       "_view_count": null,
       "_view_module": "@jupyter-widgets/controls",
       "_view_module_version": "1.5.0",
       "_view_name": "HTMLView",
       "description": "",
       "description_tooltip": null,
       "layout": "IPY_MODEL_34751e27f7e74cdb9b2473186e6ce9da",
       "placeholder": "​",
       "style": "IPY_MODEL_8029881d3e58472299e243f4af244826",
       "value": " 466k/466k [00:00&lt;00:00, 1.88MB/s]"
      }
     },
     "e414823e5fa346e492f6ebcc4ea65d49": {
      "model_module": "@jupyter-widgets/base",
      "model_module_version": "1.2.0",
      "model_name": "LayoutModel",
      "state": {
       "_model_module": "@jupyter-widgets/base",
       "_model_module_version": "1.2.0",
       "_model_name": "LayoutModel",
       "_view_count": null,
       "_view_module": "@jupyter-widgets/base",
       "_view_module_version": "1.2.0",
       "_view_name": "LayoutView",
       "align_content": null,
       "align_items": null,
       "align_self": null,
       "border": null,
       "bottom": null,
       "display": null,
       "flex": null,
       "flex_flow": null,
       "grid_area": null,
       "grid_auto_columns": null,
       "grid_auto_flow": null,
       "grid_auto_rows": null,
       "grid_column": null,
       "grid_gap": null,
       "grid_row": null,
       "grid_template_areas": null,
       "grid_template_columns": null,
       "grid_template_rows": null,
       "height": null,
       "justify_content": null,
       "justify_items": null,
       "left": null,
       "margin": null,
       "max_height": null,
       "max_width": null,
       "min_height": null,
       "min_width": null,
       "object_fit": null,
       "object_position": null,
       "order": null,
       "overflow": null,
       "overflow_x": null,
       "overflow_y": null,
       "padding": null,
       "right": null,
       "top": null,
       "visibility": null,
       "width": null
      }
     },
     "e54463fdadcb444fa91be9c9802fec4a": {
      "model_module": "@jupyter-widgets/controls",
      "model_module_version": "1.5.0",
      "model_name": "DescriptionStyleModel",
      "state": {
       "_model_module": "@jupyter-widgets/controls",
       "_model_module_version": "1.5.0",
       "_model_name": "DescriptionStyleModel",
       "_view_count": null,
       "_view_module": "@jupyter-widgets/base",
       "_view_module_version": "1.2.0",
       "_view_name": "StyleView",
       "description_width": ""
      }
     },
     "e6827cb7983a4e42a83a751289e8caf8": {
      "model_module": "@jupyter-widgets/controls",
      "model_module_version": "1.5.0",
      "model_name": "HBoxModel",
      "state": {
       "_dom_classes": [],
       "_model_module": "@jupyter-widgets/controls",
       "_model_module_version": "1.5.0",
       "_model_name": "HBoxModel",
       "_view_count": null,
       "_view_module": "@jupyter-widgets/controls",
       "_view_module_version": "1.5.0",
       "_view_name": "HBoxView",
       "box_style": "",
       "children": [
        "IPY_MODEL_6319a40ee802412cbb482958ce1758a7",
        "IPY_MODEL_b43c54f0d8244f89b363de81fb817a1a",
        "IPY_MODEL_a07c0bd4d58a4df59367879497ed0148"
       ],
       "layout": "IPY_MODEL_bbdc14c61a1f41568e2b6abc00e80a01"
      }
     },
     "e7ee97d622dd4b38994cbd1cefd0e66e": {
      "model_module": "@jupyter-widgets/controls",
      "model_module_version": "1.5.0",
      "model_name": "FloatProgressModel",
      "state": {
       "_dom_classes": [],
       "_model_module": "@jupyter-widgets/controls",
       "_model_module_version": "1.5.0",
       "_model_name": "FloatProgressModel",
       "_view_count": null,
       "_view_module": "@jupyter-widgets/controls",
       "_view_module_version": "1.5.0",
       "_view_name": "ProgressView",
       "bar_style": "success",
       "description": "",
       "description_tooltip": null,
       "layout": "IPY_MODEL_4cd6df52f20949849d4c2883c336d25b",
       "max": 570.0,
       "min": 0.0,
       "orientation": "horizontal",
       "style": "IPY_MODEL_69aa2c4af5cb402e8b153f38f8a1f0d1",
       "value": 570.0
      }
     }
    },
    "version_major": 2,
    "version_minor": 0
   }
  }
 },
 "nbformat": 4,
 "nbformat_minor": 5
}
